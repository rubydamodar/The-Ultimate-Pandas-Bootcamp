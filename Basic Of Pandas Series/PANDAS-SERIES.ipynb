{
 "cells": [
  {
   "cell_type": "markdown",
   "metadata": {},
   "source": [
    "# Basics of Pandas Series"
   ]
  },
  {
   "cell_type": "markdown",
   "metadata": {},
   "source": [
    "#### 1. Creating a Pandas Series"
   ]
  },
  {
   "cell_type": "markdown",
   "metadata": {},
   "source": [
    "> think of a Series as a list with a bit more power. Imagine you’re writing down the names of your family members and their ages, but you want to keep everything well-organized. That’s what a Series does—it gives you a list but also lets you add a label (called an index) to each item."
   ]
  },
  {
   "cell_type": "markdown",
   "metadata": {},
   "source": [
    "##### You can create a Pandas Series from a simple Python list, NumPy array, or even a dictionary. Let’s take a list of numbers first. "
   ]
  },
  {
   "cell_type": "code",
   "execution_count": 1,
   "metadata": {},
   "outputs": [
    {
     "name": "stdout",
     "output_type": "stream",
     "text": [
      "0    80\n",
      "1    90\n",
      "2    85\n",
      "3    70\n",
      "dtype: int64\n"
     ]
    }
   ],
   "source": [
    "import pandas as pd\n",
    "marks = pd.Series([80, 90, 85, 70])\n",
    "print(marks)"
   ]
  },
  {
   "cell_type": "markdown",
   "metadata": {},
   "source": [
    "Here, we created a list of marks, and Pandas automatically gives it an index starting from 0. So, it’s like the first mark is for Roll No. 0, the second mark for Roll No. 1, and so on"
   ]
  },
  {
   "cell_type": "markdown",
   "metadata": {},
   "source": [
    "## 2. Customizing the Index"
   ]
  },
  {
   "cell_type": "markdown",
   "metadata": {},
   "source": [
    "you can also give meaningful labels to this data instead of using 0, 1, 2… For example, let’s say these marks are for four students—Ram, Shyam, Geeta, and Sita. We can give them proper labels (called an index) like this"
   ]
  },
  {
   "cell_type": "code",
   "execution_count": 2,
   "metadata": {},
   "outputs": [
    {
     "name": "stdout",
     "output_type": "stream",
     "text": [
      "Ram      80\n",
      "Shyam    90\n",
      "Geeta    85\n",
      "Sita     70\n",
      "dtype: int64\n"
     ]
    }
   ],
   "source": [
    "marks = pd.Series([80, 90, 85, 70], index=['Ram', 'Shyam', 'Geeta', 'Sita'])\n",
    "print(marks)"
   ]
  },
  {
   "cell_type": "markdown",
   "metadata": {},
   "source": [
    "Now, the first mark belongs to Ram, second to Shyam, and so on. This index is like the names you put next to each person’s mark, so you know who got what"
   ]
  },
  {
   "cell_type": "markdown",
   "metadata": {},
   "source": [
    "## 3. Accessing Data in Series"
   ]
  },
  {
   "cell_type": "markdown",
   "metadata": {},
   "source": [
    "To get someone's marks, you can just call out their name, just like asking, 'Ram ka kitna aya?'. So, you can use the index to fetch the data"
   ]
  },
  {
   "cell_type": "code",
   "execution_count": 3,
   "metadata": {},
   "outputs": [
    {
     "name": "stdout",
     "output_type": "stream",
     "text": [
      "80\n"
     ]
    }
   ],
   "source": [
    "print(marks['Ram'])"
   ]
  },
  {
   "cell_type": "markdown",
   "metadata": {},
   "source": [
    "This will give you Ram’s marks, 80. Easy, na? It’s like looking at a list and knowing exactly where to find the information you need"
   ]
  },
  {
   "cell_type": "markdown",
   "metadata": {},
   "source": [
    "## 4. Basic Operations on Series"
   ]
  },
  {
   "cell_type": "markdown",
   "metadata": {},
   "source": [
    "Now, let’s say all students get extra 5 marks for good behavior. You can easily add 5 marks to everyone, like this:"
   ]
  },
  {
   "cell_type": "code",
   "execution_count": 4,
   "metadata": {},
   "outputs": [
    {
     "name": "stdout",
     "output_type": "stream",
     "text": [
      "Ram      85\n",
      "Shyam    95\n",
      "Geeta    90\n",
      "Sita     75\n",
      "dtype: int64\n"
     ]
    }
   ],
   "source": [
    "marks = marks + 5\n",
    "print(marks)"
   ]
  },
  {
   "cell_type": "markdown",
   "metadata": {},
   "source": [
    "Simple addition! Similarly, you can subtract, multiply, or do any kind of arithmetic operation on the entire Series in one go. This is why Pandas is so useful—it treats data like a smart, organized list and allows you to manipulate it quickly"
   ]
  },
  {
   "cell_type": "markdown",
   "metadata": {},
   "source": [
    "## 5. Handling Missing Data"
   ]
  },
  {
   "cell_type": "markdown",
   "metadata": {},
   "source": [
    "Sometimes, beta, a student may not give an exam, right? That’s missing data. Pandas knows how to handle that too. If someone doesn’t have marks, you can assign `NaN` (Not a Number), and Pandas will understand. For example:"
   ]
  },
  {
   "cell_type": "code",
   "execution_count": 5,
   "metadata": {},
   "outputs": [
    {
     "name": "stdout",
     "output_type": "stream",
     "text": [
      "Ram      80.0\n",
      "Shyam    90.0\n",
      "Geeta     NaN\n",
      "Sita     70.0\n",
      "dtype: float64\n"
     ]
    }
   ],
   "source": [
    "marks = pd.Series([80, 90, None, 70], index=['Ram', 'Shyam', 'Geeta', 'Sita'])\n",
    "print(marks)"
   ]
  },
  {
   "cell_type": "markdown",
   "metadata": {},
   "source": [
    "Here, Geeta’s marks are missing, and Pandas shows it as `NaN`. You can fill this later if you get the data, or decide to drop it if it’s not needed"
   ]
  },
  {
   "cell_type": "markdown",
   "metadata": {},
   "source": [
    "# Accessing Data in Series (In Depth)"
   ]
  },
  {
   "cell_type": "markdown",
   "metadata": {},
   "source": [
    "Accessing data in a Pandas Series is like flipping through the pages of a book where every page has a name (index) and some content (the data). Let’s explore how we can access, slice, and work with a Pandas Series in detail."
   ]
  },
  {
   "cell_type": "markdown",
   "metadata": {},
   "source": [
    "##### 1. Accessing Elements by Index Position (Similar to List)"
   ]
  },
  {
   "cell_type": "markdown",
   "metadata": {},
   "source": [
    "think of the Series as a list of items where each item has an address (index). If you want to access items by their position (just like you look at Roll No. 1 or Roll No. 2 in your class list), you can do it using the index position"
   ]
  },
  {
   "cell_type": "code",
   "execution_count": 6,
   "metadata": {},
   "outputs": [
    {
     "name": "stdout",
     "output_type": "stream",
     "text": [
      "80\n",
      "90\n"
     ]
    },
    {
     "name": "stderr",
     "output_type": "stream",
     "text": [
      "C:\\Users\\abhis\\AppData\\Local\\Temp\\ipykernel_13728\\2607989721.py:6: FutureWarning: Series.__getitem__ treating keys as positions is deprecated. In a future version, integer keys will always be treated as labels (consistent with DataFrame behavior). To access a value by position, use `ser.iloc[pos]`\n",
      "  print(marks[0])\n",
      "C:\\Users\\abhis\\AppData\\Local\\Temp\\ipykernel_13728\\2607989721.py:7: FutureWarning: Series.__getitem__ treating keys as positions is deprecated. In a future version, integer keys will always be treated as labels (consistent with DataFrame behavior). To access a value by position, use `ser.iloc[pos]`\n",
      "  print(marks[1])\n"
     ]
    }
   ],
   "source": [
    "import pandas as pd\n",
    "\n",
    "marks = pd.Series([80, 90, 85, 70], index=['Ram', 'Shyam', 'Geeta', 'Sita'])\n",
    "\n",
    "# Accessing by position, like a normal list\n",
    "print(marks[0])  \n",
    "print(marks[1])"
   ]
  },
  {
   "cell_type": "markdown",
   "metadata": {},
   "source": [
    "Here, you are using index positions starting from 0."
   ]
  },
  {
   "cell_type": "markdown",
   "metadata": {},
   "source": [
    "##### 2. Accessing Elements by Index Label"
   ]
  },
  {
   "cell_type": "code",
   "execution_count": 7,
   "metadata": {},
   "outputs": [
    {
     "name": "stdout",
     "output_type": "stream",
     "text": [
      "80\n",
      "85\n"
     ]
    }
   ],
   "source": [
    "print(marks['Ram'])   \n",
    "print(marks['Geeta'])"
   ]
  },
  {
   "cell_type": "markdown",
   "metadata": {},
   "source": [
    "So, just call the name (index label) to get the value."
   ]
  },
  {
   "cell_type": "markdown",
   "metadata": {},
   "source": [
    "##### 3. Slicing in Series (Accessing Multiple Elements)"
   ]
  },
  {
   "cell_type": "markdown",
   "metadata": {},
   "source": [
    "imagine you want to see a range of students’ marks, like 'Shyam se lekar Geeta tak ka result dikhao'. You can slice the Series for that, like cutting out a portion of the list"
   ]
  },
  {
   "cell_type": "code",
   "execution_count": 8,
   "metadata": {},
   "outputs": [
    {
     "name": "stdout",
     "output_type": "stream",
     "text": [
      "Shyam    90\n",
      "Geeta    85\n",
      "dtype: int64\n"
     ]
    }
   ],
   "source": [
    "print(marks['Shyam':'Geeta'])"
   ]
  },
  {
   "cell_type": "markdown",
   "metadata": {},
   "source": [
    "Pandas will include both the start and end labels in slicing. In a normal Python list, the end is usually excluded, but Pandas includes it."
   ]
  },
  {
   "cell_type": "markdown",
   "metadata": {},
   "source": [
    "##### 4. Position-based Slicing (Using .iloc[] for Integer Indexing)"
   ]
  },
  {
   "cell_type": "markdown",
   "metadata": {},
   "source": [
    "If you want to access data by its number (position), you can use `.iloc[].` It’s just like accessing by roll number"
   ]
  },
  {
   "cell_type": "code",
   "execution_count": 9,
   "metadata": {},
   "outputs": [
    {
     "name": "stdout",
     "output_type": "stream",
     "text": [
      "Shyam    90\n",
      "Geeta    85\n",
      "dtype: int64\n"
     ]
    }
   ],
   "source": [
    "# Using iloc for position-based slicing\n",
    "print(marks.iloc[1:3])"
   ]
  },
  {
   "cell_type": "markdown",
   "metadata": {},
   "source": [
    "Notice here that the end (position 3) is excluded in `.iloc[]`."
   ]
  },
  {
   "cell_type": "markdown",
   "metadata": {},
   "source": [
    "##### 5. Label-based Slicing (Using .loc[] for Index Labels)"
   ]
  },
  {
   "cell_type": "markdown",
   "metadata": {},
   "source": [
    "when you want to get a range based on names (labels), `.loc[]` is the tool you use. It works just like when you use names to access specific marks"
   ]
  },
  {
   "cell_type": "code",
   "execution_count": 10,
   "metadata": {},
   "outputs": [
    {
     "name": "stdout",
     "output_type": "stream",
     "text": [
      "Ram      80\n",
      "Shyam    90\n",
      "Geeta    85\n",
      "dtype: int64\n"
     ]
    }
   ],
   "source": [
    "# Using loc for label-based slicing\n",
    "print(marks.loc['Ram':'Geeta'])"
   ]
  },
  {
   "cell_type": "markdown",
   "metadata": {},
   "source": [
    "Here, the end label is included in `.loc[]`."
   ]
  }
 ],
 "metadata": {
  "kernelspec": {
   "display_name": "Python 3",
   "language": "python",
   "name": "python3"
  },
  "language_info": {
   "codemirror_mode": {
    "name": "ipython",
    "version": 3
   },
   "file_extension": ".py",
   "mimetype": "text/x-python",
   "name": "python",
   "nbconvert_exporter": "python",
   "pygments_lexer": "ipython3",
   "version": "3.12.5"
  }
 },
 "nbformat": 4,
 "nbformat_minor": 2
}
