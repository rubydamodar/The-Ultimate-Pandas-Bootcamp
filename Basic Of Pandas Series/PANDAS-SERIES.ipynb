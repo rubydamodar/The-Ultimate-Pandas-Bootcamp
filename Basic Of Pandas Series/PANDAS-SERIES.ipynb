{
 "cells": [
  {
   "cell_type": "markdown",
   "metadata": {},
   "source": [
    "# Basics of Pandas Series"
   ]
  },
  {
   "cell_type": "markdown",
   "metadata": {},
   "source": [
    "#### 1. Creating a Pandas Series"
   ]
  },
  {
   "cell_type": "markdown",
   "metadata": {},
   "source": [
    "> think of a Series as a list with a bit more power. Imagine you’re writing down the names of your family members and their ages, but you want to keep everything well-organized. That’s what a Series does—it gives you a list but also lets you add a label (called an index) to each item."
   ]
  },
  {
   "cell_type": "markdown",
   "metadata": {},
   "source": [
    "##### You can create a Pandas Series from a simple Python list, NumPy array, or even a dictionary. Let’s take a list of numbers first. "
   ]
  },
  {
   "cell_type": "code",
   "execution_count": 6,
   "metadata": {},
   "outputs": [
    {
     "name": "stdout",
     "output_type": "stream",
     "text": [
      "0    80\n",
      "1    90\n",
      "2    85\n",
      "3    70\n",
      "dtype: int64\n"
     ]
    }
   ],
   "source": [
    "import pandas as pd\n",
    "marks = pd.Series([80, 90, 85, 70])\n",
    "print(marks)"
   ]
  },
  {
   "cell_type": "markdown",
   "metadata": {},
   "source": [
    "Here, we created a list of marks, and Pandas automatically gives it an index starting from 0. So, it’s like the first mark is for Roll No. 0, the second mark for Roll No. 1, and so on"
   ]
  },
  {
   "cell_type": "markdown",
   "metadata": {},
   "source": [
    "## 2. Customizing the Index"
   ]
  },
  {
   "cell_type": "markdown",
   "metadata": {},
   "source": [
    "you can also give meaningful labels to this data instead of using 0, 1, 2… For example, let’s say these marks are for four students—Ram, Shyam, Geeta, and Sita. We can give them proper labels (called an index) like this"
   ]
  },
  {
   "cell_type": "code",
   "execution_count": 7,
   "metadata": {},
   "outputs": [
    {
     "name": "stdout",
     "output_type": "stream",
     "text": [
      "Ram      80\n",
      "Shyam    90\n",
      "Geeta    85\n",
      "Sita     70\n",
      "dtype: int64\n"
     ]
    }
   ],
   "source": [
    "marks = pd.Series([80, 90, 85, 70], index=['Ram', 'Shyam', 'Geeta', 'Sita'])\n",
    "print(marks)"
   ]
  },
  {
   "cell_type": "markdown",
   "metadata": {},
   "source": [
    "Now, the first mark belongs to Ram, second to Shyam, and so on. This index is like the names you put next to each person’s mark, so you know who got what"
   ]
  },
  {
   "cell_type": "markdown",
   "metadata": {},
   "source": [
    "## 3. Accessing Data in Series"
   ]
  },
  {
   "cell_type": "markdown",
   "metadata": {},
   "source": [
    "To get someone's marks, you can just call out their name, just like asking, 'Ram ka kitna aya?'. So, you can use the index to fetch the data"
   ]
  },
  {
   "cell_type": "code",
   "execution_count": 3,
   "metadata": {},
   "outputs": [
    {
     "name": "stdout",
     "output_type": "stream",
     "text": [
      "80\n"
     ]
    }
   ],
   "source": [
    "print(marks['Ram'])"
   ]
  },
  {
   "cell_type": "markdown",
   "metadata": {},
   "source": [
    "This will give you Ram’s marks, 80. Easy, na? It’s like looking at a list and knowing exactly where to find the information you need"
   ]
  },
  {
   "cell_type": "markdown",
   "metadata": {},
   "source": [
    "## 4. Basic Operations on Series"
   ]
  },
  {
   "cell_type": "markdown",
   "metadata": {},
   "source": [
    "Now, let’s say all students get extra 5 marks for good behavior. You can easily add 5 marks to everyone, like this:"
   ]
  },
  {
   "cell_type": "code",
   "execution_count": 4,
   "metadata": {},
   "outputs": [
    {
     "name": "stdout",
     "output_type": "stream",
     "text": [
      "Ram      85\n",
      "Shyam    95\n",
      "Geeta    90\n",
      "Sita     75\n",
      "dtype: int64\n"
     ]
    }
   ],
   "source": [
    "marks = marks + 5\n",
    "print(marks)"
   ]
  },
  {
   "cell_type": "markdown",
   "metadata": {},
   "source": [
    "Simple addition! Similarly, you can subtract, multiply, or do any kind of arithmetic operation on the entire Series in one go. This is why Pandas is so useful—it treats data like a smart, organized list and allows you to manipulate it quickly"
   ]
  },
  {
   "cell_type": "markdown",
   "metadata": {},
   "source": [
    "## 5. Handling Missing Data"
   ]
  },
  {
   "cell_type": "markdown",
   "metadata": {},
   "source": [
    "Sometimes, beta, a student may not give an exam, right? That’s missing data. Pandas knows how to handle that too. If someone doesn’t have marks, you can assign `NaN` (Not a Number), and Pandas will understand. For example:"
   ]
  },
  {
   "cell_type": "code",
   "execution_count": 5,
   "metadata": {},
   "outputs": [
    {
     "name": "stdout",
     "output_type": "stream",
     "text": [
      "Ram      80.0\n",
      "Shyam    90.0\n",
      "Geeta     NaN\n",
      "Sita     70.0\n",
      "dtype: float64\n"
     ]
    }
   ],
   "source": [
    "marks = pd.Series([80, 90, None, 70], index=['Ram', 'Shyam', 'Geeta', 'Sita'])\n",
    "print(marks)"
   ]
  },
  {
   "cell_type": "markdown",
   "metadata": {},
   "source": [
    "Here, Geeta’s marks are missing, and Pandas shows it as `NaN`. You can fill this later if you get the data, or decide to drop it if it’s not needed"
   ]
  },
  {
   "cell_type": "markdown",
   "metadata": {},
   "source": [
    "# Accessing Data in Series (In Depth)"
   ]
  },
  {
   "cell_type": "markdown",
   "metadata": {},
   "source": [
    "Accessing data in a Pandas Series is like flipping through the pages of a book where every page has a name (index) and some content (the data). Let’s explore how we can access, slice, and work with a Pandas Series in detail."
   ]
  },
  {
   "cell_type": "markdown",
   "metadata": {},
   "source": [
    "##### 1. Accessing Elements by Index Position (Similar to List)"
   ]
  },
  {
   "cell_type": "markdown",
   "metadata": {},
   "source": [
    "think of the Series as a list of items where each item has an address (index). If you want to access items by their position (just like you look at Roll No. 1 or Roll No. 2 in your class list), you can do it using the index position"
   ]
  },
  {
   "cell_type": "code",
   "execution_count": 6,
   "metadata": {},
   "outputs": [
    {
     "name": "stdout",
     "output_type": "stream",
     "text": [
      "80\n",
      "90\n"
     ]
    },
    {
     "name": "stderr",
     "output_type": "stream",
     "text": [
      "C:\\Users\\abhis\\AppData\\Local\\Temp\\ipykernel_13728\\2607989721.py:6: FutureWarning: Series.__getitem__ treating keys as positions is deprecated. In a future version, integer keys will always be treated as labels (consistent with DataFrame behavior). To access a value by position, use `ser.iloc[pos]`\n",
      "  print(marks[0])\n",
      "C:\\Users\\abhis\\AppData\\Local\\Temp\\ipykernel_13728\\2607989721.py:7: FutureWarning: Series.__getitem__ treating keys as positions is deprecated. In a future version, integer keys will always be treated as labels (consistent with DataFrame behavior). To access a value by position, use `ser.iloc[pos]`\n",
      "  print(marks[1])\n"
     ]
    }
   ],
   "source": [
    "import pandas as pd\n",
    "\n",
    "marks = pd.Series([80, 90, 85, 70], index=['Ram', 'Shyam', 'Geeta', 'Sita'])\n",
    "\n",
    "# Accessing by position, like a normal list\n",
    "print(marks[0])  \n",
    "print(marks[1])"
   ]
  },
  {
   "cell_type": "markdown",
   "metadata": {},
   "source": [
    "Here, you are using index positions starting from 0."
   ]
  },
  {
   "cell_type": "markdown",
   "metadata": {},
   "source": [
    "##### 2. Accessing Elements by Index Label"
   ]
  },
  {
   "cell_type": "code",
   "execution_count": 7,
   "metadata": {},
   "outputs": [
    {
     "name": "stdout",
     "output_type": "stream",
     "text": [
      "80\n",
      "85\n"
     ]
    }
   ],
   "source": [
    "print(marks['Ram'])   \n",
    "print(marks['Geeta'])"
   ]
  },
  {
   "cell_type": "markdown",
   "metadata": {},
   "source": [
    "So, just call the name (index label) to get the value."
   ]
  },
  {
   "cell_type": "markdown",
   "metadata": {},
   "source": [
    "##### 3. Slicing in Series (Accessing Multiple Elements)"
   ]
  },
  {
   "cell_type": "markdown",
   "metadata": {},
   "source": [
    "imagine you want to see a range of students’ marks, like 'Shyam se lekar Geeta tak ka result dikhao'. You can slice the Series for that, like cutting out a portion of the list"
   ]
  },
  {
   "cell_type": "code",
   "execution_count": 8,
   "metadata": {},
   "outputs": [
    {
     "name": "stdout",
     "output_type": "stream",
     "text": [
      "Shyam    90\n",
      "Geeta    85\n",
      "dtype: int64\n"
     ]
    }
   ],
   "source": [
    "print(marks['Shyam':'Geeta'])"
   ]
  },
  {
   "cell_type": "markdown",
   "metadata": {},
   "source": [
    "Pandas will include both the start and end labels in slicing. In a normal Python list, the end is usually excluded, but Pandas includes it."
   ]
  },
  {
   "cell_type": "markdown",
   "metadata": {},
   "source": [
    "##### 4. Position-based Slicing (Using .iloc[] for Integer Indexing)"
   ]
  },
  {
   "cell_type": "markdown",
   "metadata": {},
   "source": [
    "If you want to access data by its number (position), you can use `.iloc[].` It’s just like accessing by roll number"
   ]
  },
  {
   "cell_type": "code",
   "execution_count": 9,
   "metadata": {},
   "outputs": [
    {
     "name": "stdout",
     "output_type": "stream",
     "text": [
      "Shyam    90\n",
      "Geeta    85\n",
      "dtype: int64\n"
     ]
    }
   ],
   "source": [
    "# Using iloc for position-based slicing\n",
    "print(marks.iloc[1:3])"
   ]
  },
  {
   "cell_type": "markdown",
   "metadata": {},
   "source": [
    "Notice here that the end (position 3) is excluded in `.iloc[]`."
   ]
  },
  {
   "cell_type": "markdown",
   "metadata": {},
   "source": [
    "##### 5. Label-based Slicing (Using .loc[] for Index Labels)"
   ]
  },
  {
   "cell_type": "markdown",
   "metadata": {},
   "source": [
    "when you want to get a range based on names (labels), `.loc[]` is the tool you use. It works just like when you use names to access specific marks"
   ]
  },
  {
   "cell_type": "code",
   "execution_count": 10,
   "metadata": {},
   "outputs": [
    {
     "name": "stdout",
     "output_type": "stream",
     "text": [
      "Ram      80\n",
      "Shyam    90\n",
      "Geeta    85\n",
      "dtype: int64\n"
     ]
    }
   ],
   "source": [
    "# Using loc for label-based slicing\n",
    "print(marks.loc['Ram':'Geeta'])"
   ]
  },
  {
   "cell_type": "markdown",
   "metadata": {},
   "source": [
    "Here, the end label is included in `.loc[]`."
   ]
  },
  {
   "cell_type": "markdown",
   "metadata": {},
   "source": [
    "##### 6. Boolean Indexing (Conditional Selection)"
   ]
  },
  {
   "cell_type": "markdown",
   "metadata": {},
   "source": [
    "what if you want to find only those students who scored more than 80 marks? You can use a condition, just like asking ‘Kaun kaun se bachche 80 se upar laaye?’."
   ]
  },
  {
   "cell_type": "code",
   "execution_count": 11,
   "metadata": {},
   "outputs": [
    {
     "name": "stdout",
     "output_type": "stream",
     "text": [
      "Shyam    90\n",
      "Geeta    85\n",
      "dtype: int64\n"
     ]
    }
   ],
   "source": [
    "# Boolean indexing (getting marks greater than 80)\n",
    "print(marks[marks > 80])"
   ]
  },
  {
   "cell_type": "markdown",
   "metadata": {},
   "source": [
    "Pandas will automatically filter the data based on your condition!"
   ]
  },
  {
   "cell_type": "markdown",
   "metadata": {},
   "source": [
    "##### 7. Using .at[] and .iat[] for Fast Access"
   ]
  },
  {
   "cell_type": "markdown",
   "metadata": {},
   "source": [
    "\"When you want to quickly access one specific element, `.at[]` and `.iat[]` are the fastest tools. Think of them like jumping straight to the page of a book.\"\n",
    "\n",
    "> `.at[]` is used for label-based access, and\n",
    "> `.iat[]` is used for position-based access."
   ]
  },
  {
   "cell_type": "code",
   "execution_count": 12,
   "metadata": {},
   "outputs": [
    {
     "name": "stdout",
     "output_type": "stream",
     "text": [
      "70\n",
      "85\n"
     ]
    }
   ],
   "source": [
    "# Access by label (fast)\n",
    "print(marks.at['Sita'])  \n",
    "\n",
    "# Access by position (fast)\n",
    "print(marks.iat[2])      "
   ]
  },
  {
   "cell_type": "markdown",
   "metadata": {},
   "source": [
    "let’s move on to performing some basic and more advanced operations on a Series. Pandas makes it easy to add, subtract, multiply, and do much more with your data, just like solving a math problem quickly!"
   ]
  },
  {
   "cell_type": "markdown",
   "metadata": {},
   "source": [
    "#### 1. Element-wise Arithmetic Operations"
   ]
  },
  {
   "cell_type": "markdown",
   "metadata": {},
   "source": [
    "Let’s say you want to add 5 marks to all students for attendance. You can add this 5 to the entire Series at once, instead of adding individually."
   ]
  },
  {
   "cell_type": "code",
   "execution_count": 2,
   "metadata": {},
   "outputs": [
    {
     "name": "stdout",
     "output_type": "stream",
     "text": [
      "0    85\n",
      "1    95\n",
      "2    90\n",
      "3    75\n",
      "dtype: int64\n"
     ]
    }
   ],
   "source": [
    "marks = marks + 5\n",
    "print(marks)"
   ]
  },
  {
   "cell_type": "markdown",
   "metadata": {},
   "source": [
    "Similarly, you can do subtraction, multiplication, and division."
   ]
  },
  {
   "cell_type": "markdown",
   "metadata": {},
   "source": [
    "#### 2. Arithmetic Between Two Series"
   ]
  },
  {
   "cell_type": "markdown",
   "metadata": {},
   "source": [
    "Now, let’s say you have another list of extra marks (say, for project work) and you want to add these to the main marks. You can add two Series together!"
   ]
  },
  {
   "cell_type": "code",
   "execution_count": 8,
   "metadata": {},
   "outputs": [
    {
     "name": "stdout",
     "output_type": "stream",
     "text": [
      "Ram      82\n",
      "Shyam    93\n",
      "Geeta    86\n",
      "Sita     74\n",
      "dtype: int64\n"
     ]
    }
   ],
   "source": [
    "extra_marks = pd.Series([2, 3, 1, 4], index=['Ram', 'Shyam', 'Geeta', 'Sita'])\n",
    "total_marks = marks + extra_marks\n",
    "print(total_marks)"
   ]
  },
  {
   "cell_type": "markdown",
   "metadata": {},
   "source": [
    "#### 3. Missing Data Handling in Operations"
   ]
  },
  {
   "cell_type": "markdown",
   "metadata": {},
   "source": [
    "if one student doesn’t have marks (say for extra marks), Pandas will show NaN (Not a Number) for missing data. Let’s see how it handles this"
   ]
  },
  {
   "cell_type": "code",
   "execution_count": 9,
   "metadata": {},
   "outputs": [
    {
     "name": "stdout",
     "output_type": "stream",
     "text": [
      "Ram      82.0\n",
      "Shyam    93.0\n",
      "Geeta     NaN\n",
      "Sita     74.0\n",
      "dtype: float64\n"
     ]
    }
   ],
   "source": [
    "extra_marks_partial = pd.Series([2, 3, None, 4], index=['Ram', 'Shyam', 'Geeta', 'Sita'])\n",
    "total_marks = marks + extra_marks_partial\n",
    "print(total_marks)"
   ]
  },
  {
   "cell_type": "markdown",
   "metadata": {},
   "source": [
    "Here, Geeta’s total is `NaN` because her extra marks were missing."
   ]
  },
  {
   "cell_type": "markdown",
   "metadata": {},
   "source": [
    "#### 4. Handling Missing Data `(fillna()`, `dropna())`"
   ]
  },
  {
   "cell_type": "markdown",
   "metadata": {},
   "source": [
    "When you have missing data `(NaN)`, you can either fill it with a value or drop it. For example, if we assume Geeta got 0 extra marks, we can fill that missing data"
   ]
  },
  {
   "cell_type": "code",
   "execution_count": 10,
   "metadata": {},
   "outputs": [
    {
     "name": "stdout",
     "output_type": "stream",
     "text": [
      "Ram      82.0\n",
      "Shyam    93.0\n",
      "Geeta     0.0\n",
      "Sita     74.0\n",
      "dtype: float64\n"
     ]
    }
   ],
   "source": [
    "total_marks_filled = total_marks.fillna(0)\n",
    "print(total_marks_filled)"
   ]
  },
  {
   "cell_type": "markdown",
   "metadata": {},
   "source": [
    "You can also drop the missing data:"
   ]
  },
  {
   "cell_type": "code",
   "execution_count": 11,
   "metadata": {},
   "outputs": [
    {
     "name": "stdout",
     "output_type": "stream",
     "text": [
      "Ram      82.0\n",
      "Shyam    93.0\n",
      "Sita     74.0\n",
      "dtype: float64\n"
     ]
    }
   ],
   "source": [
    "total_marks_dropped = total_marks.dropna()\n",
    "print(total_marks_dropped)"
   ]
  },
  {
   "cell_type": "markdown",
   "metadata": {},
   "source": [
    "#### 5. Statistical Operations on Series"
   ]
  },
  {
   "cell_type": "markdown",
   "metadata": {},
   "source": [
    " just like calculating the total, average, or highest marks in your class, Pandas can help you with quick statistical operations"
   ]
  },
  {
   "cell_type": "code",
   "execution_count": 12,
   "metadata": {},
   "outputs": [
    {
     "name": "stdout",
     "output_type": "stream",
     "text": [
      "Sum: 249.0\n",
      "Mean: 83.0\n",
      "Max: 93.0\n",
      "Min: 74.0\n"
     ]
    }
   ],
   "source": [
    "print(\"Sum:\", total_marks.sum())       # Total sum of marks\n",
    "print(\"Mean:\", total_marks.mean())     # Average marks\n",
    "print(\"Max:\", total_marks.max())       # Highest marks\n",
    "print(\"Min:\", total_marks.min())       # Lowest marks"
   ]
  },
  {
   "cell_type": "markdown",
   "metadata": {},
   "source": [
    "#### 6. Sorting Data in Series"
   ]
  },
  {
   "cell_type": "markdown",
   "metadata": {},
   "source": [
    "Let’s say you want to rank the students from highest to lowest marks. You can sort the Series either by values or by index"
   ]
  },
  {
   "cell_type": "code",
   "execution_count": 13,
   "metadata": {},
   "outputs": [
    {
     "name": "stdout",
     "output_type": "stream",
     "text": [
      "Shyam    93.0\n",
      "Ram      82.0\n",
      "Sita     74.0\n",
      "Geeta     NaN\n",
      "dtype: float64\n"
     ]
    }
   ],
   "source": [
    "sorted_marks = total_marks.sort_values(ascending=False)\n",
    "print(sorted_marks)"
   ]
  },
  {
   "cell_type": "markdown",
   "metadata": {},
   "source": [
    " See, accessing and operating on a Pandas Series is like managing your class results. You can filter, modify, and analyze the data in so many ways, and Pandas"
   ]
  },
  {
   "cell_type": "markdown",
   "metadata": {},
   "source": [
    "# Summary"
   ]
  },
  {
   "cell_type": "markdown",
   "metadata": {},
   "source": [
    "Let’s go **basic operations on Pandas Series**, covering all key aspects of creating, accessing, manipulating, and performing arithmetic/statistical operations on Series. This will include more detailed explanations, examples, and advanced nuances for working with Series in Pandas.\n",
    "\n",
    "### **1. Creating a Pandas Series**\n",
    "\n",
    "You can create a Pandas Series from various data structures such as lists, dictionaries, NumPy arrays, etc.\n",
    "\n",
    "- **From a List:**\n",
    "    ```python\n",
    "    import pandas as pd\n",
    "    \n",
    "    # Creating a Series from a list\n",
    "    marks = pd.Series([80, 90, 85, 70])\n",
    "    print(marks)\n",
    "    ```\n",
    "    Output:\n",
    "    ```\n",
    "    0    80\n",
    "    1    90\n",
    "    2    85\n",
    "    3    70\n",
    "    dtype: int64\n",
    "    ```\n",
    "\n",
    "- **From a List with Custom Index:**\n",
    "    ```python\n",
    "    # Creating a Series with a custom index\n",
    "    marks = pd.Series([80, 90, 85, 70], index=['Ram', 'Shyam', 'Geeta', 'Sita'])\n",
    "    print(marks)\n",
    "    ```\n",
    "    Output:\n",
    "    ```\n",
    "    Ram      80\n",
    "    Shyam    90\n",
    "    Geeta    85\n",
    "    Sita     70\n",
    "    dtype: int64\n",
    "    ```\n",
    "\n",
    "- **From a Dictionary:**\n",
    "    ```python\n",
    "    # Creating a Series from a dictionary\n",
    "    data = {'Ram': 80, 'Shyam': 90, 'Geeta': 85, 'Sita': 70}\n",
    "    marks = pd.Series(data)\n",
    "    print(marks)\n",
    "    ```\n",
    "    Output:\n",
    "    ```\n",
    "    Ram      80\n",
    "    Shyam    90\n",
    "    Geeta    85\n",
    "    Sita     70\n",
    "    dtype: int64\n",
    "    ```\n",
    "\n",
    "- **From a NumPy Array:**\n",
    "    ```python\n",
    "    import numpy as np\n",
    "    \n",
    "    # Creating a Series from a NumPy array\n",
    "    arr = np.array([80, 90, 85, 70])\n",
    "    marks = pd.Series(arr, index=['Ram', 'Shyam', 'Geeta', 'Sita'])\n",
    "    print(marks)\n",
    "    ```\n",
    "\n",
    "---\n",
    "\n",
    "### **2. Accessing Data in a Series**\n",
    "\n",
    "Series behaves like a combination of a list (for position-based access) and a dictionary (for label-based access).\n",
    "\n",
    "#### **Accessing Elements by Index Position (Integer Location):**\n",
    "\n",
    "- **Access a single element:**\n",
    "    ```python\n",
    "    # Access by position (0-based indexing)\n",
    "    print(marks[0])  # Output: 80\n",
    "    ```\n",
    "  \n",
    "- **Access multiple elements using a list of positions:**\n",
    "    ```python\n",
    "    print(marks[[0, 2]])  # Output: Ram's and Geeta's marks\n",
    "    ```\n",
    "\n",
    "#### **Accessing Elements by Index Label:**\n",
    "\n",
    "- **Access a single element:**\n",
    "    ```python\n",
    "    print(marks['Ram'])  # Output: 80\n",
    "    ```\n",
    "\n",
    "- **Access multiple elements using a list of labels:**\n",
    "    ```python\n",
    "    print(marks[['Ram', 'Sita']])\n",
    "    ```\n",
    "\n",
    "#### **Slicing a Series:**\n",
    "\n",
    "- **Position-based slicing:**\n",
    "    ```python\n",
    "    print(marks[0:3])  # Returns first 3 elements\n",
    "    ```\n",
    "\n",
    "- **Label-based slicing (with inclusive end):**\n",
    "    ```python\n",
    "    print(marks['Ram':'Geeta'])  # Returns marks from Ram to Geeta (inclusive)\n",
    "    ```\n",
    "\n",
    "#### **Accessing with `.iloc[]` and `.loc[]`:**\n",
    "\n",
    "- **.iloc[]** is used for integer position-based access:\n",
    "    ```python\n",
    "    print(marks.iloc[1])  # Output: 90 (Shyam’s marks)\n",
    "    ```\n",
    "\n",
    "- **.loc[]** is used for label-based access:\n",
    "    ```python\n",
    "    print(marks.loc['Geeta'])  # Output: 85\n",
    "    ```\n",
    "\n",
    "#### **Boolean Indexing:**\n",
    "\n",
    "- **Access elements based on a condition:**\n",
    "    ```python\n",
    "    print(marks[marks > 80])  # Marks greater than 80\n",
    "    ```\n",
    "    Output:\n",
    "    ```\n",
    "    Shyam     90\n",
    "    Geeta     85\n",
    "    dtype: int64\n",
    "    ```\n",
    "\n",
    "#### **Fast Access with `.at[]` and `.iat[]`:**\n",
    "\n",
    "- **.at[]** for label-based fast access:\n",
    "    ```python\n",
    "    print(marks.at['Ram'])  # Output: 80\n",
    "    ```\n",
    "\n",
    "- **.iat[]** for integer position-based fast access:\n",
    "    ```python\n",
    "    print(marks.iat[2])  # Output: 85 (Geeta’s marks)\n",
    "    ```\n",
    "\n",
    "---\n",
    "\n",
    "### **3. Modifying Data in a Series**\n",
    "\n",
    "You can modify the values of a Series just like a list or dictionary.\n",
    "\n",
    "- **Updating a single element:**\n",
    "    ```python\n",
    "    marks['Ram'] = 82  # Update Ram's marks\n",
    "    print(marks)\n",
    "    ```\n",
    "\n",
    "- **Updating multiple elements:**\n",
    "    ```python\n",
    "    marks[['Ram', 'Sita']] = [88, 75]  # Update Ram and Sita’s marks\n",
    "    ```\n",
    "\n",
    "---\n",
    "\n",
    "### **4. Basic Arithmetic Operations**\n",
    "\n",
    "#### **Element-wise Operations:**\n",
    "Pandas allows you to perform operations on the entire Series at once.\n",
    "\n",
    "- **Add, subtract, multiply, or divide a constant:**\n",
    "    ```python\n",
    "    print(marks + 5)   # Adds 5 to all elements\n",
    "    print(marks - 2)   # Subtracts 2 from all elements\n",
    "    print(marks * 2)   # Multiplies all elements by 2\n",
    "    print(marks / 2)   # Divides all elements by 2\n",
    "    ```\n",
    "\n",
    "#### **Operations Between Two Series:**\n",
    "\n",
    "When performing operations between two Series, Pandas aligns the elements by their index labels.\n",
    "\n",
    "- **Adding two Series:**\n",
    "    ```python\n",
    "    extra_marks = pd.Series([5, 3, 2], index=['Ram', 'Shyam', 'Geeta'])\n",
    "    print(marks + extra_marks)  # Add extra marks\n",
    "    ```\n",
    "\n",
    "---\n",
    "\n",
    "### **5. Handling Missing Data**\n",
    "\n",
    "Series can contain missing data (`NaN`), which Pandas can handle easily.\n",
    "\n",
    "- **Identifying missing data:**\n",
    "    ```python\n",
    "    marks_with_nan = pd.Series([80, None, 85, 70], index=['Ram', 'Shyam', 'Geeta', 'Sita'])\n",
    "    print(marks_with_nan.isna())  # Returns True for missing values\n",
    "    ```\n",
    "\n",
    "- **Filling missing data:**\n",
    "    ```python\n",
    "    filled_marks = marks_with_nan.fillna(0)  # Replace NaN with 0\n",
    "    print(filled_marks)\n",
    "    ```\n",
    "\n",
    "- **Dropping missing data:**\n",
    "    ```python\n",
    "    marks_no_nan = marks_with_nan.dropna()  # Remove missing data\n",
    "    print(marks_no_nan)\n",
    "    ```\n",
    "\n",
    "---\n",
    "\n",
    "### **6. Statistical Operations**\n",
    "\n",
    "Pandas provides a wide range of statistical functions for Series.\n",
    "\n",
    "- **Sum of the elements:**\n",
    "    ```python\n",
    "    print(marks.sum())\n",
    "    ```\n",
    "\n",
    "- **Mean (average) of the elements:**\n",
    "    ```python\n",
    "    print(marks.mean())\n",
    "    ```\n",
    "\n",
    "- **Maximum value:**\n",
    "    ```python\n",
    "    print(marks.max())\n",
    "    ```\n",
    "\n",
    "- **Minimum value:**\n",
    "    ```python\n",
    "    print(marks.min())\n",
    "    ```\n",
    "\n",
    "- **Standard deviation:**\n",
    "    ```python\n",
    "    print(marks.std())\n",
    "    ```\n",
    "\n",
    "- **Cumulative sum (running total):**\n",
    "    ```python\n",
    "    print(marks.cumsum())\n",
    "    ```\n",
    "\n",
    "- **Count of non-missing values:**\n",
    "    ```python\n",
    "    print(marks.count())\n",
    "    ```\n",
    "\n",
    "---\n",
    "\n",
    "### **7. Sorting a Series**\n",
    "\n",
    "You can sort a Series by its values or by its index.\n",
    "\n",
    "- **Sorting by values:**\n",
    "    ```python\n",
    "    sorted_marks = marks.sort_values()\n",
    "    print(sorted_marks)\n",
    "    ```\n",
    "\n",
    "- **Sorting by index:**\n",
    "    ```python\n",
    "    sorted_marks_by_index = marks.sort_index()\n",
    "    print(sorted_marks_by_index)\n",
    "    ```\n",
    "\n",
    "---\n",
    "\n",
    "### **8. Applying Functions to a Series**\n",
    "\n",
    "Pandas allows you to apply functions to each element in the Series.\n",
    "\n",
    "- **Using `.apply()` with a lambda function:**\n",
    "    ```python\n",
    "    print(marks.apply(lambda x: x + 5))  # Add 5 to each element\n",
    "    ```\n",
    "\n",
    "- **Using built-in NumPy functions:**\n",
    "    ```python\n",
    "    import numpy as np\n",
    "    print(marks.apply(np.sqrt))  # Square root of each element\n",
    "    ```\n",
    "\n",
    "---\n",
    "\n",
    "### **9. Miscellaneous Operations**\n",
    "\n",
    "- **Converting Series to a list:**\n",
    "    ```python\n",
    "    print(marks.tolist())\n",
    "    ```\n",
    "\n",
    "- **Converting Series to a dictionary:**\n",
    "    ```python\n",
    "    print(marks.to_dict())\n",
    "    ```\n",
    "\n",
    "- **Checking the data type of elements:**\n",
    "    ```python\n",
    "    print(marks.dtype)\n",
    "    ```\n",
    "\n",
    "- **Converting Series to a DataFrame:**\n",
    "    ```python\n",
    "    marks_df = marks.to_frame(name='Marks')\n",
    "    print(marks_df)\n",
    "    ```\n",
    "\n",
    "- **Renaming index labels:**\n",
    "    ```python\n",
    "    marks.rename(index={'Ram': 'Ramesh'}, inplace=True)\n",
    "    print(marks)\n",
    "    ```\n",
    "\n",
    "- **Checking if an index exists:**\n",
    "    ```python\n",
    "    print('Ram' in marks)  # Check if 'Ram' is in the Series\n",
    "    ```\n",
    "\n",
    "---\n",
    "\n",
    "### **10. Index Operations**\n",
    "\n",
    "- **Resetting index:**\n",
    "    ```python\n",
    "    marks_reset = marks.reset_index(drop=True)\n",
    "    print(marks_reset\n",
    "\n",
    ")\n",
    "    ```\n",
    "\n",
    "- **Setting a new index:**\n",
    "    ```python\n",
    "    marks.index = ['A', 'B', 'C', 'D']  # Change index labels\n",
    "    ```\n",
    "\n",
    "---\n",
    "\n",
    "These are covering all the core functionalities of Pandas Series. This includes everything from **basic creation and access** to more advanced **arithmetic and statistical manipulations**. The goal is to make you proficient with Series so that you can comfortably manipulate and analyze 1D data."
   ]
  }
 ],
 "metadata": {
  "kernelspec": {
   "display_name": "Python 3",
   "language": "python",
   "name": "python3"
  },
  "language_info": {
   "codemirror_mode": {
    "name": "ipython",
    "version": 3
   },
   "file_extension": ".py",
   "mimetype": "text/x-python",
   "name": "python",
   "nbconvert_exporter": "python",
   "pygments_lexer": "ipython3",
   "version": "3.12.5"
  }
 },
 "nbformat": 4,
 "nbformat_minor": 2
}
