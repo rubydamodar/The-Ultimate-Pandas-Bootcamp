{
 "cells": [
  {
   "cell_type": "markdown",
   "metadata": {},
   "source": [
    "# Basics of Pandas Series"
   ]
  },
  {
   "cell_type": "markdown",
   "metadata": {},
   "source": [
    "#### 1. Creating a Pandas Series"
   ]
  },
  {
   "cell_type": "markdown",
   "metadata": {},
   "source": [
    "> think of a Series as a list with a bit more power. Imagine you’re writing down the names of your family members and their ages, but you want to keep everything well-organized. That’s what a Series does—it gives you a list but also lets you add a label (called an index) to each item."
   ]
  },
  {
   "cell_type": "markdown",
   "metadata": {},
   "source": [
    "##### You can create a Pandas Series from a simple Python list, NumPy array, or even a dictionary. Let’s take a list of numbers first. "
   ]
  },
  {
   "cell_type": "code",
   "execution_count": 1,
   "metadata": {},
   "outputs": [
    {
     "name": "stdout",
     "output_type": "stream",
     "text": [
      "0    80\n",
      "1    90\n",
      "2    85\n",
      "3    70\n",
      "dtype: int64\n"
     ]
    }
   ],
   "source": [
    "import pandas as pd\n",
    "marks = pd.Series([80, 90, 85, 70])\n",
    "print(marks)"
   ]
  },
  {
   "cell_type": "markdown",
   "metadata": {},
   "source": [
    "Here, we created a list of marks, and Pandas automatically gives it an index starting from 0. So, it’s like the first mark is for Roll No. 0, the second mark for Roll No. 1, and so on"
   ]
  },
  {
   "cell_type": "markdown",
   "metadata": {},
   "source": [
    "## 2. Customizing the Index"
   ]
  },
  {
   "cell_type": "markdown",
   "metadata": {},
   "source": [
    "you can also give meaningful labels to this data instead of using 0, 1, 2… For example, let’s say these marks are for four students—Ram, Shyam, Geeta, and Sita. We can give them proper labels (called an index) like this"
   ]
  },
  {
   "cell_type": "code",
   "execution_count": 2,
   "metadata": {},
   "outputs": [
    {
     "name": "stdout",
     "output_type": "stream",
     "text": [
      "Ram      80\n",
      "Shyam    90\n",
      "Geeta    85\n",
      "Sita     70\n",
      "dtype: int64\n"
     ]
    }
   ],
   "source": [
    "marks = pd.Series([80, 90, 85, 70], index=['Ram', 'Shyam', 'Geeta', 'Sita'])\n",
    "print(marks)"
   ]
  },
  {
   "cell_type": "markdown",
   "metadata": {},
   "source": [
    "Now, the first mark belongs to Ram, second to Shyam, and so on. This index is like the names you put next to each person’s mark, so you know who got what"
   ]
  },
  {
   "cell_type": "markdown",
   "metadata": {},
   "source": [
    "## 3. Accessing Data in Series"
   ]
  },
  {
   "cell_type": "markdown",
   "metadata": {},
   "source": [
    "To get someone's marks, you can just call out their name, just like asking, 'Ram ka kitna aya?'. So, you can use the index to fetch the data"
   ]
  },
  {
   "cell_type": "code",
   "execution_count": 3,
   "metadata": {},
   "outputs": [
    {
     "name": "stdout",
     "output_type": "stream",
     "text": [
      "80\n"
     ]
    }
   ],
   "source": [
    "print(marks['Ram'])"
   ]
  },
  {
   "cell_type": "markdown",
   "metadata": {},
   "source": [
    "This will give you Ram’s marks, 80. Easy, na? It’s like looking at a list and knowing exactly where to find the information you need"
   ]
  },
  {
   "cell_type": "markdown",
   "metadata": {},
   "source": [
    "## 4. Basic Operations on Series"
   ]
  },
  {
   "cell_type": "markdown",
   "metadata": {},
   "source": [
    "Now, let’s say all students get extra 5 marks for good behavior. You can easily add 5 marks to everyone, like this:"
   ]
  },
  {
   "cell_type": "code",
   "execution_count": 4,
   "metadata": {},
   "outputs": [
    {
     "name": "stdout",
     "output_type": "stream",
     "text": [
      "Ram      85\n",
      "Shyam    95\n",
      "Geeta    90\n",
      "Sita     75\n",
      "dtype: int64\n"
     ]
    }
   ],
   "source": [
    "marks = marks + 5\n",
    "print(marks)"
   ]
  },
  {
   "cell_type": "markdown",
   "metadata": {},
   "source": [
    "Simple addition! Similarly, you can subtract, multiply, or do any kind of arithmetic operation on the entire Series in one go. This is why Pandas is so useful—it treats data like a smart, organized list and allows you to manipulate it quickly"
   ]
  },
  {
   "cell_type": "markdown",
   "metadata": {},
   "source": [
    "## 5. Handling Missing Data"
   ]
  },
  {
   "cell_type": "markdown",
   "metadata": {},
   "source": [
    "Sometimes, beta, a student may not give an exam, right? That’s missing data. Pandas knows how to handle that too. If someone doesn’t have marks, you can assign `NaN` (Not a Number), and Pandas will understand. For example:"
   ]
  },
  {
   "cell_type": "code",
   "execution_count": 5,
   "metadata": {},
   "outputs": [
    {
     "name": "stdout",
     "output_type": "stream",
     "text": [
      "Ram      80.0\n",
      "Shyam    90.0\n",
      "Geeta     NaN\n",
      "Sita     70.0\n",
      "dtype: float64\n"
     ]
    }
   ],
   "source": [
    "marks = pd.Series([80, 90, None, 70], index=['Ram', 'Shyam', 'Geeta', 'Sita'])\n",
    "print(marks)"
   ]
  },
  {
   "cell_type": "markdown",
   "metadata": {},
   "source": [
    "Here, Geeta’s marks are missing, and Pandas shows it as `NaN`. You can fill this later if you get the data, or decide to drop it if it’s not needed"
   ]
  }
 ],
 "metadata": {
  "kernelspec": {
   "display_name": "Python 3",
   "language": "python",
   "name": "python3"
  },
  "language_info": {
   "codemirror_mode": {
    "name": "ipython",
    "version": 3
   },
   "file_extension": ".py",
   "mimetype": "text/x-python",
   "name": "python",
   "nbconvert_exporter": "python",
   "pygments_lexer": "ipython3",
   "version": "3.12.5"
  }
 },
 "nbformat": 4,
 "nbformat_minor": 2
}
