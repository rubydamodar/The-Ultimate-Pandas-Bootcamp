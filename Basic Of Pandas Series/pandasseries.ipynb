{
 "cells": [
  {
   "cell_type": "markdown",
   "metadata": {},
   "source": [
    "# Pandas Series"
   ]
  },
  {
   "cell_type": "markdown",
   "metadata": {},
   "source": [
    "a pandas series is like a single column of data in a spreadsheet or a list with labels....."
   ]
  },
  {
   "cell_type": "markdown",
   "metadata": {},
   "source": [
    "its a one-dimentional array that can hold data like `integer` , `srtrings` , or ` floats`."
   ]
  },
  {
   "cell_type": "markdown",
   "metadata": {},
   "source": [
    "what make it special is that each item has an `index` (like labels) , making it super easy to look up values..."
   ]
  },
  {
   "cell_type": "markdown",
   "metadata": {},
   "source": [
    "> #### A Pandas Series is like a column in a table.\n",
    "\n",
    "> #### It is a one-dimensional array holding data of any type. It is similar to a list or a numpy array, but it is more powerful and flexible.\n"
   ]
  },
  {
   "cell_type": "code",
   "execution_count": 2,
   "metadata": {},
   "outputs": [
    {
     "name": "stdout",
     "output_type": "stream",
     "text": [
      "0     50\n",
      "1    100\n",
      "2    150\n",
      "3    200\n",
      "4    250\n",
      "5    300\n",
      "6    350\n",
      "7    400\n",
      "8    450\n",
      "9    500\n",
      "dtype: int64\n"
     ]
    }
   ],
   "source": [
    "import pandas as pd \n",
    "data=[50,100,150,200,250,300,350,400,450,500]\n",
    "dataseries=pd.Series(data)\n",
    "print(dataseries)"
   ]
  },
  {
   "cell_type": "markdown",
   "metadata": {},
   "source": [
    "> ##### here 0,1,2,3,4,5,6,7,8,9 are the `indexes` and 50,100,150,200,250,300,350,400,450,500 are the `values` you can also customize the indexe if you want"
   ]
  },
  {
   "cell_type": "code",
   "execution_count": 4,
   "metadata": {},
   "outputs": [
    {
     "name": "stdout",
     "output_type": "stream",
     "text": [
      "a     50\n",
      "b    100\n",
      "c    150\n",
      "d    200\n",
      "e    250\n",
      "f    300\n",
      "g    350\n",
      "i    400\n",
      "j    450\n",
      "k    500\n",
      "dtype: int64\n"
     ]
    }
   ],
   "source": [
    "dataseries=pd.Series(data,index=['a','b','c','d','e','f','g','i','j','k'])\n",
    "print(dataseries)"
   ]
  },
  {
   "cell_type": "markdown",
   "metadata": {},
   "source": [
    "#### think of a series as a labeled list thats super efficient for data handling"
   ]
  },
  {
   "cell_type": "markdown",
   "metadata": {},
   "source": [
    "if you want to create a pandas series with values ranging from `50,100,150 and so on up to 500` we can use pythons `range()` function inside the series creations"
   ]
  },
  {
   "cell_type": "code",
   "execution_count": 5,
   "metadata": {},
   "outputs": [
    {
     "name": "stdout",
     "output_type": "stream",
     "text": [
      "0     50\n",
      "1    100\n",
      "2    150\n",
      "3    200\n",
      "4    250\n",
      "5    300\n",
      "6    350\n",
      "7    400\n",
      "8    450\n",
      "9    500\n",
      "dtype: int64\n"
     ]
    }
   ],
   "source": [
    "import pandas as pd \n",
    "dataseries2=pd.Series(range(50,501,50))\n",
    "print(dataseries2)"
   ]
  },
  {
   "cell_type": "markdown",
   "metadata": {},
   "source": [
    "> ##### this creates a series with values from 50 to 500 , increasing by 50 each time!"
   ]
  }
 ],
 "metadata": {
  "kernelspec": {
   "display_name": "Python 3",
   "language": "python",
   "name": "python3"
  },
  "language_info": {
   "codemirror_mode": {
    "name": "ipython",
    "version": 3
   },
   "file_extension": ".py",
   "mimetype": "text/x-python",
   "name": "python",
   "nbconvert_exporter": "python",
   "pygments_lexer": "ipython3",
   "version": "3.11.9"
  }
 },
 "nbformat": 4,
 "nbformat_minor": 2
}
