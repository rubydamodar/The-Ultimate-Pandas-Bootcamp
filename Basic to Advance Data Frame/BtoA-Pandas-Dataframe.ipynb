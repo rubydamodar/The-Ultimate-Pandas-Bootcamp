{
 "cells": [
  {
   "cell_type": "markdown",
   "metadata": {},
   "source": [
    "# Introduction to Pandas DataFrame "
   ]
  },
  {
   "cell_type": "markdown",
   "metadata": {},
   "source": [
    "Imagine you're in a classroom. The Pandas DataFrame is like a class register (attendance book). In that register:\n",
    "\n",
    "- The rows are like students in your class.\n",
    "- The columns are like the subjects each student has. For example: one column for \"Name\", another for \"Math marks\", one for \"Science marks\", etc.\n",
    "- The index is like the roll numbers assigned to each student.\n",
    "So, the Pandas DataFrame is nothing but a table that helps you organize your data in rows and columns, exactly like how you maintain school or college records."
   ]
  },
  {
   "cell_type": "markdown",
   "metadata": {},
   "source": [
    "### What is a DataFrame?"
   ]
  },
  {
   "cell_type": "markdown",
   "metadata": {},
   "source": [
    "A DataFrame is basically a 2D (two-dimensional) data structure in Pandas, meaning it has both rows and columns. It's one of the most important parts of Pandas, which is why we focus on it so much.\n",
    "\n",
    "- Just like your class register has names and marks of students, a DataFrame holds labeled data.\n",
    "- You can store different types of data in one DataFrame: numbers, strings (like names), dates, etc."
   ]
  },
  {
   "cell_type": "markdown",
   "metadata": {},
   "source": [
    "## Creating a Simple DataFrame:"
   ]
  },
  {
   "cell_type": "markdown",
   "metadata": {},
   "source": [
    "Now, let's say you want to create a DataFrame for a class with details of 3 students, their marks in Math, and the city they are from. In Pandas, you can do this using Python, and it’s as simple as writing the names and marks in the code."
   ]
  },
  {
   "cell_type": "markdown",
   "metadata": {},
   "source": [
    "To create a simple DataFrame in Pandas, you can use various data structures like lists, dictionaries, or even external data sources such as CSV files or databases. Let's start with the basics of DataFrame creation."
   ]
  },
  {
   "cell_type": "markdown",
   "metadata": {},
   "source": [
    "## 1. Creating a DataFrame from a Dictionary\n",
    "we are familiar with storing data in tabular forms like a school attendance register. Consider a dictionary as something like a record where each key is a \"column heading\" and the values are lists of \"entries\" in that column."
   ]
  },
  {
   "cell_type": "markdown",
   "metadata": {},
   "source": [
    "#### Example: Student details in a classroom"
   ]
  },
  {
   "cell_type": "code",
   "execution_count": 187,
   "metadata": {},
   "outputs": [
    {
     "name": "stdout",
     "output_type": "stream",
     "text": [
      "    Name  Age       City\n",
      "0   Aman   16      Delhi\n",
      "1  Priya   17     Mumbai\n",
      "2    Raj   16  Bangalore\n",
      "3  Sneha   18    Chennai\n"
     ]
    }
   ],
   "source": [
    "import pandas as pd\n",
    "\n",
    "# Data as a dictionary\n",
    "student_data = {\n",
    "    'Name': ['Aman', 'Priya', 'Raj', 'Sneha'],\n",
    "    'Age': [16, 17, 16, 18],\n",
    "    'City': ['Delhi', 'Mumbai', 'Bangalore', 'Chennai']\n",
    "}\n",
    "\n",
    "# Convert dictionary to DataFrame\n",
    "df = pd.DataFrame(student_data)\n",
    "print(df)"
   ]
  },
  {
   "cell_type": "markdown",
   "metadata": {},
   "source": [
    "Name, Age, City are like the headings of our columns, just like a ledger's headings "
   ]
  },
  {
   "cell_type": "markdown",
   "metadata": {},
   "source": [
    "The values are the actual data, similar to entries in each student's row in your school register."
   ]
  },
  {
   "cell_type": "markdown",
   "metadata": {},
   "source": [
    "## 2. Creating a DataFrame from a List of Lists"
   ]
  },
  {
   "cell_type": "markdown",
   "metadata": {},
   "source": [
    "Think of a list of lists as a table with rows of data. It's like when you jot down data in rows in your notebook for each student."
   ]
  },
  {
   "cell_type": "code",
   "execution_count": 188,
   "metadata": {},
   "outputs": [
    {
     "name": "stdout",
     "output_type": "stream",
     "text": [
      "    Name  Age       City\n",
      "0   Aman   16      Delhi\n",
      "1  Priya   17     Mumbai\n",
      "2    Raj   16  Bangalore\n",
      "3  Sneha   18    Chennai\n"
     ]
    }
   ],
   "source": [
    "# List of lists where each list is a row (student's data)\n",
    "data = [\n",
    "    ['Aman', 16, 'Delhi'],\n",
    "    ['Priya', 17, 'Mumbai'],\n",
    "    ['Raj', 16, 'Bangalore'],\n",
    "    ['Sneha', 18, 'Chennai']\n",
    "]\n",
    "\n",
    "# Create DataFrame and specify column labels\n",
    "df = pd.DataFrame(data, columns=['Name', 'Age', 'City'])\n",
    "print(df)"
   ]
  },
  {
   "cell_type": "markdown",
   "metadata": {},
   "source": [
    "Each inner list represents a row, which is like a complete entry for a student in the class. It’s just like making rows in a notebook for student records."
   ]
  },
  {
   "cell_type": "markdown",
   "metadata": {},
   "source": [
    "## 3. Creating a DataFrame from a List of Dictionaries"
   ]
  },
  {
   "cell_type": "code",
   "execution_count": 189,
   "metadata": {},
   "outputs": [
    {
     "name": "stdout",
     "output_type": "stream",
     "text": [
      "    Name  Age       City\n",
      "0   Aman   16      Delhi\n",
      "1  Priya   17     Mumbai\n",
      "2    Raj   16  Bangalore\n",
      "3  Sneha   18    Chennai\n"
     ]
    }
   ],
   "source": [
    "# List of dictionaries where each dictionary is a row\n",
    "family_data = [\n",
    "    {'Name': 'Aman', 'Age': 16, 'City': 'Delhi'},\n",
    "    {'Name': 'Priya', 'Age': 17, 'City': 'Mumbai'},\n",
    "    {'Name': 'Raj', 'Age': 16, 'City': 'Bangalore'},\n",
    "    {'Name': 'Sneha', 'Age': 18, 'City': 'Chennai'}\n",
    "]\n",
    "\n",
    "# Convert list of dictionaries to DataFrame\n",
    "df = pd.DataFrame(family_data)\n",
    "print(df)"
   ]
  },
  {
   "cell_type": "markdown",
   "metadata": {},
   "source": [
    "Each dictionary can be seen as a person’s record, much like writing an entry for each person in a family or an office group."
   ]
  },
  {
   "cell_type": "markdown",
   "metadata": {},
   "source": [
    "## 4. Creating a DataFrame from NumPy Arrays\n",
    "In India, we often deal with numbers, such as exam scores or bank transactions. Using NumPy arrays, we can store numerical data efficiently. Let’s create a DataFrame from NumPy arrays, much like a marksheet of students."
   ]
  },
  {
   "cell_type": "code",
   "execution_count": 190,
   "metadata": {},
   "outputs": [
    {
     "name": "stdout",
     "output_type": "stream",
     "text": [
      "    Name  Marks       City\n",
      "0   Aman     85      Delhi\n",
      "1  Priya     90     Mumbai\n",
      "2    Raj     78  Bangalore\n",
      "3  Sneha     88    Chennai\n"
     ]
    }
   ],
   "source": [
    "import numpy as np\n",
    "\n",
    "# Create NumPy arrays for data\n",
    "names = np.array(['Aman', 'Priya', 'Raj', 'Sneha'])\n",
    "marks = np.array([85, 90, 78, 88])\n",
    "cities = np.array(['Delhi', 'Mumbai', 'Bangalore', 'Chennai'])\n",
    "\n",
    "# Create DataFrame from NumPy arrays\n",
    "df = pd.DataFrame({\n",
    "    'Name': names,\n",
    "    'Marks': marks,\n",
    "    'City': cities\n",
    "})\n",
    "print(df)"
   ]
  },
  {
   "cell_type": "markdown",
   "metadata": {},
   "source": [
    "Here, NumPy arrays are used to hold data, just like a marksheet with names and scores. In this case, each array holds a column of data."
   ]
  },
  {
   "cell_type": "markdown",
   "metadata": {},
   "source": [
    "## 5. Creating DataFrame from CSV or Excel files\n",
    "In real life, we often store data in Excel or CSV files, like monthly electricity bills or bank statements. Pandas makes it very easy to read data from these files."
   ]
  },
  {
   "cell_type": "code",
   "execution_count": null,
   "metadata": {},
   "outputs": [],
   "source": [
    "# Reading from a CSV file (file needs to be present in your system)\n",
    "df = pd.read_csv('students_data.csv')\n",
    "print(df)"
   ]
  },
  {
   "cell_type": "markdown",
   "metadata": {},
   "source": [
    "Here, Pandas will load the CSV file data into a DataFrame, just like copying the table from Excel into Python."
   ]
  },
  {
   "cell_type": "markdown",
   "metadata": {},
   "source": [
    "## 1. Accessing a Single Column (Like looking at a specific category in your notebook)\n",
    "When you want to check a specific column, such as names, ages, or marks, it’s like checking only one subject or column in your register.\n",
    "\n",
    "Example: Student Data"
   ]
  },
  {
   "cell_type": "code",
   "execution_count": 1,
   "metadata": {},
   "outputs": [],
   "source": [
    "import pandas as pd\n",
    "\n",
    "data = {\n",
    "    'Name': ['Rahul', 'Anjali', 'Sameer', 'Neha'],\n",
    "    'Age': [18, 17, 19, 18],\n",
    "    'Marks': [85, 92, 75, 88]\n",
    "}\n",
    "\n",
    "df = pd.DataFrame(data)"
   ]
  },
  {
   "cell_type": "code",
   "execution_count": 2,
   "metadata": {},
   "outputs": [
    {
     "name": "stdout",
     "output_type": "stream",
     "text": [
      "     Name  Age  Marks\n",
      "0   Rahul   18     85\n",
      "1  Anjali   17     92\n",
      "2  Sameer   19     75\n",
      "3    Neha   18     88\n"
     ]
    }
   ],
   "source": [
    "print(df)"
   ]
  },
  {
   "cell_type": "markdown",
   "metadata": {},
   "source": [
    "Accessing a column by name:"
   ]
  },
  {
   "cell_type": "code",
   "execution_count": 3,
   "metadata": {},
   "outputs": [
    {
     "name": "stdout",
     "output_type": "stream",
     "text": [
      "0     Rahul\n",
      "1    Anjali\n",
      "2    Sameer\n",
      "3      Neha\n",
      "Name: Name, dtype: object\n"
     ]
    }
   ],
   "source": [
    "# Access the 'Name' column\n",
    "print(df['Name'])"
   ]
  },
  {
   "cell_type": "markdown",
   "metadata": {},
   "source": [
    "Here, you’re just looking at the \"Name\" column, like how you’d open your school register and look at all students’ names. You’re focusing on that one specific column."
   ]
  },
  {
   "cell_type": "markdown",
   "metadata": {},
   "source": [
    "## 2. Accessing Multiple Columns (Like checking multiple subjects at once)\n",
    "You can access more than one column at the same time, similar to looking at both names and marks in your register."
   ]
  },
  {
   "cell_type": "code",
   "execution_count": 4,
   "metadata": {},
   "outputs": [
    {
     "name": "stdout",
     "output_type": "stream",
     "text": [
      "     Name  Marks\n",
      "0   Rahul     85\n",
      "1  Anjali     92\n",
      "2  Sameer     75\n",
      "3    Neha     88\n"
     ]
    }
   ],
   "source": [
    "# Accessing multiple columns ('Name' and 'Marks')\n",
    "print(df[['Name', 'Marks']])"
   ]
  },
  {
   "cell_type": "markdown",
   "metadata": {},
   "source": [
    "Here, you're pulling out both the Name and Marks columns—like checking both subjects in your register at the same time. You’re essentially selecting two columns from the DataFrame."
   ]
  },
  {
   "cell_type": "markdown",
   "metadata": {},
   "source": [
    "## 3. Accessing Rows by Index (Looking at a specific student's details)\n",
    "If you want to see all details of one particular student (like Rahul), you would find his row in the register.\n",
    "\n",
    "Accessing a row by index:\n"
   ]
  },
  {
   "cell_type": "code",
   "execution_count": 5,
   "metadata": {},
   "outputs": [
    {
     "name": "stdout",
     "output_type": "stream",
     "text": [
      "Name     Rahul\n",
      "Age         18\n",
      "Marks       85\n",
      "Name: 0, dtype: object\n"
     ]
    }
   ],
   "source": [
    "# Accessing the first row (Rahul's data)\n",
    "print(df.loc[0])"
   ]
  },
  {
   "cell_type": "markdown",
   "metadata": {},
   "source": [
    "This is like saying, \"Tell me all about the first student in the register.\" You’re getting the entire row—Name, Age, and Marks—for that student."
   ]
  },
  {
   "cell_type": "markdown",
   "metadata": {},
   "source": [
    "## 4. Accessing Rows by Label with .loc[]\n",
    "Pandas has this nice .loc[] method, which allows you to access data by its label (row index). Think of it like referring to a page number or entry number in your notebook.\n",
    "\n",
    "Accessing multiple rows:"
   ]
  },
  {
   "cell_type": "code",
   "execution_count": 6,
   "metadata": {},
   "outputs": [
    {
     "name": "stdout",
     "output_type": "stream",
     "text": [
      "     Name  Age  Marks\n",
      "0   Rahul   18     85\n",
      "1  Anjali   17     92\n"
     ]
    }
   ],
   "source": [
    "# Access the rows of Rahul and Anjali\n",
    "print(df.loc[[0, 1]])"
   ]
  },
  {
   "cell_type": "markdown",
   "metadata": {},
   "source": [
    "You’re asking for all the details of Rahul and Anjali, just like reading two lines from your school register that contain all details for those students."
   ]
  },
  {
   "cell_type": "markdown",
   "metadata": {},
   "source": [
    "## 5. Accessing a Specific Value (Looking at one piece of information)\n",
    "Let’s say you want to know Anjali’s Marks. You’ll need to go to Anjali's row and look under the Marks column, just like in your register.\n",
    "\n",
    "Accessing a specific value:"
   ]
  },
  {
   "cell_type": "code",
   "execution_count": 7,
   "metadata": {},
   "outputs": [
    {
     "name": "stdout",
     "output_type": "stream",
     "text": [
      "92\n"
     ]
    }
   ],
   "source": [
    "# Access Anjali's Marks\n",
    "print(df.loc[1, 'Marks'])"
   ]
  },
  {
   "cell_type": "markdown",
   "metadata": {},
   "source": [
    "You’re looking for the Marks of the student at index 1 (Anjali). Just like finding Anjali in the school record and checking her marks."
   ]
  },
  {
   "cell_type": "markdown",
   "metadata": {},
   "source": [
    "## 6. Slicing (Accessing a range of rows and columns)\n",
    "Sometimes, you might want to look at multiple students and focus on particular subjects, like how you’d look at rows 2 to 4 and only focus on Name and Marks.\n",
    "\n",
    "Example: Access a slice of the DataFrame"
   ]
  },
  {
   "cell_type": "code",
   "execution_count": 8,
   "metadata": {},
   "outputs": [
    {
     "name": "stdout",
     "output_type": "stream",
     "text": [
      "     Name  Marks\n",
      "1  Anjali     92\n",
      "2  Sameer     75\n",
      "3    Neha     88\n"
     ]
    }
   ],
   "source": [
    "# Get a slice of the DataFrame (2nd to 4th rows, and 'Name' & 'Marks' columns)\n",
    "print(df.loc[1:3, ['Name', 'Marks']])"
   ]
  },
  {
   "cell_type": "markdown",
   "metadata": {},
   "source": [
    "This is like reading Anjali, Sameer, and Neha’s names and marks only, leaving out the other details. You’ve sliced a portion of the DataFrame to focus on specific rows and columns."
   ]
  },
  {
   "cell_type": "markdown",
   "metadata": {},
   "source": [
    "## 7. Accessing by Position Using .iloc[] (Like accessing by row number)\n",
    "Sometimes you don't know the labels, but you know the positions. For instance, you just want to check the 2nd student’s marks without caring about their name. .iloc[] helps you access rows and columns based on their position (just like row numbers in a notebook).\n",
    "\n",
    "Example: Access row and column by position"
   ]
  },
  {
   "cell_type": "code",
   "execution_count": 9,
   "metadata": {},
   "outputs": [
    {
     "name": "stdout",
     "output_type": "stream",
     "text": [
      "75\n"
     ]
    }
   ],
   "source": [
    "# Access the value in the second row and third column (Sameer’s marks)\n",
    "print(df.iloc[2, 2])"
   ]
  },
  {
   "cell_type": "markdown",
   "metadata": {},
   "source": [
    "You are saying, \"Show me the value in the 2nd row (Sameer) and the 3rd column (Marks).\" It’s like going to row 3 of your register and looking at a specific column."
   ]
  },
  {
   "cell_type": "markdown",
   "metadata": {},
   "source": [
    "## 8. Accessing Multiple Rows and Columns with .iloc[]\n",
    "You can also use .iloc[] to get multiple rows and columns at the same time, much like checking several lines in your notebook.\n",
    "\n",
    "Example: Access multiple rows and columns"
   ]
  },
  {
   "cell_type": "code",
   "execution_count": 10,
   "metadata": {},
   "outputs": [
    {
     "name": "stdout",
     "output_type": "stream",
     "text": [
      "     Name  Age\n",
      "1  Anjali   17\n",
      "2  Sameer   19\n",
      "3    Neha   18\n"
     ]
    }
   ],
   "source": [
    "# Access rows 1 to 3 and columns 1 to 2\n",
    "print(df.iloc[1:4, 0:2])"
   ]
  },
  {
   "cell_type": "markdown",
   "metadata": {},
   "source": [
    "You’re asking for the Name and Age of students from the 2nd to 4th rows, just like selecting a portion of your register."
   ]
  },
  {
   "cell_type": "markdown",
   "metadata": {},
   "source": [
    "## 9. Conditional Access (Filtering data based on conditions)\n",
    "If your teacher asks, \"Show me students who scored more than 80 marks,\" you'd manually go through the register and note down the names of students meeting that condition. In Pandas, we can easily filter data based on conditions.\n",
    "\n",
    "Example: Access students who scored more than 80 marks"
   ]
  },
  {
   "cell_type": "code",
   "execution_count": 11,
   "metadata": {},
   "outputs": [
    {
     "name": "stdout",
     "output_type": "stream",
     "text": [
      "     Name  Age  Marks\n",
      "0   Rahul   18     85\n",
      "1  Anjali   17     92\n",
      "3    Neha   18     88\n"
     ]
    }
   ],
   "source": [
    "# Students with marks more than 80\n",
    "print(df[df['Marks'] > 80])"
   ]
  },
  {
   "cell_type": "markdown",
   "metadata": {},
   "source": [
    "You are filtering out only those students who have scored more than 80 marks, similar to how you’d filter students manually in your notebook based on their marks."
   ]
  },
  {
   "cell_type": "markdown",
   "metadata": {},
   "source": [
    "## 10. Accessing with Conditions on Multiple Columns\n",
    "Let’s say you want to check who is above 18 years and scored more than 80 marks. Just like flipping through pages in your register, you can use multiple conditions to filter data.\n",
    "\n",
    "Example: Access based on multiple conditions"
   ]
  },
  {
   "cell_type": "code",
   "execution_count": 12,
   "metadata": {},
   "outputs": [
    {
     "name": "stdout",
     "output_type": "stream",
     "text": [
      "     Name  Age  Marks\n",
      "2  Sameer   19     75\n"
     ]
    }
   ],
   "source": [
    "# Students older than 18 and marks more than 60\n",
    "result = df[(df['Age'] > 18) & (df['Marks'] > 60)]\n",
    "print(result)"
   ]
  },
  {
   "cell_type": "markdown",
   "metadata": {},
   "source": [
    "Now that you've learned how to access data in a Pandas DataFrame using conditions and filter multiple columns, the next steps can involve more advanced data manipulation and analysis techniques"
   ]
  },
  {
   "cell_type": "markdown",
   "metadata": {},
   "source": [
    "## 1. Chaining Conditions\n",
    "Chaining conditions allows you to create more complex queries to filter your DataFrame based on multiple criteria.\n",
    "\n",
    "Example: Students Older Than 18 with Marks Greater Than 70"
   ]
  },
  {
   "cell_type": "code",
   "execution_count": 13,
   "metadata": {},
   "outputs": [
    {
     "name": "stdout",
     "output_type": "stream",
     "text": [
      "     Name  Age  Marks       City\n",
      "0   Rahul   18     85      Delhi\n",
      "1  Anjali   17     92     Mumbai\n",
      "2  Sameer   19     75  Bangalore\n",
      "3    Neha   18     88    Chennai\n"
     ]
    }
   ],
   "source": [
    "import pandas as pd\n",
    "\n",
    "# Sample DataFrame\n",
    "data = {\n",
    "    'Name': ['Rahul', 'Anjali', 'Sameer', 'Neha'],\n",
    "    'Age': [18, 17, 19, 18],\n",
    "    'Marks': [85, 92, 75, 88],\n",
    "    'City': ['Delhi', 'Mumbai', 'Bangalore', 'Chennai']\n",
    "}\n",
    "\n",
    "df = pd.DataFrame(data)\n",
    "print(df)"
   ]
  },
  {
   "cell_type": "code",
   "execution_count": 14,
   "metadata": {},
   "outputs": [
    {
     "name": "stdout",
     "output_type": "stream",
     "text": [
      "     Name  Age  Marks       City\n",
      "2  Sameer   19     75  Bangalore\n"
     ]
    }
   ],
   "source": [
    "# Chaining conditions\n",
    "filtered_students = df[(df['Age'] > 18) & (df['Marks'] > 70)]\n",
    "print(filtered_students)"
   ]
  },
  {
   "cell_type": "markdown",
   "metadata": {},
   "source": [
    "## 2. Using isin() for Filtering\n",
    "The isin() function checks if each element in a DataFrame column is contained in a provided list. This is useful for filtering rows based on multiple possible values.\n",
    "\n",
    "Example: Filter Students from Specific Cities"
   ]
  },
  {
   "cell_type": "code",
   "execution_count": 15,
   "metadata": {},
   "outputs": [
    {
     "name": "stdout",
     "output_type": "stream",
     "text": [
      "     Name  Age  Marks    City\n",
      "0   Rahul   18     85   Delhi\n",
      "1  Anjali   17     92  Mumbai\n"
     ]
    }
   ],
   "source": [
    "# Filtering students from Delhi and Mumbai\n",
    "filtered_cities = df[df['City'].isin(['Delhi', 'Mumbai'])]\n",
    "print(filtered_cities)"
   ]
  },
  {
   "cell_type": "markdown",
   "metadata": {},
   "source": [
    "## 3. Using query() Method\n",
    "The query() method allows you to filter a DataFrame using a string expression. It provides a cleaner and more readable syntax, especially for complex conditions.\n",
    "\n",
    "Example: Query for Students Older Than 18"
   ]
  },
  {
   "cell_type": "code",
   "execution_count": 16,
   "metadata": {},
   "outputs": [
    {
     "name": "stdout",
     "output_type": "stream",
     "text": [
      "     Name  Age  Marks       City\n",
      "2  Sameer   19     75  Bangalore\n"
     ]
    }
   ],
   "source": [
    "# Using query to filter\n",
    "result = df.query('Age > 18 and Marks > 70')\n",
    "print(result)"
   ]
  },
  {
   "cell_type": "markdown",
   "metadata": {},
   "source": [
    "## 4. Sorting Data\n",
    "Sorting helps to arrange your DataFrame based on specific column values. This is useful for identifying top or bottom performers in your dataset.\n",
    "\n",
    "Example: Sort by Marks in Descending Order"
   ]
  },
  {
   "cell_type": "code",
   "execution_count": 17,
   "metadata": {},
   "outputs": [
    {
     "name": "stdout",
     "output_type": "stream",
     "text": [
      "     Name  Age  Marks       City\n",
      "1  Anjali   17     92     Mumbai\n",
      "3    Neha   18     88    Chennai\n",
      "0   Rahul   18     85      Delhi\n",
      "2  Sameer   19     75  Bangalore\n"
     ]
    }
   ],
   "source": [
    "# Sorting by Marks\n",
    "sorted_df = df.sort_values(by='Marks', ascending=False)\n",
    "print(sorted_df)"
   ]
  },
  {
   "cell_type": "markdown",
   "metadata": {},
   "source": [
    "You can also sort by multiple columns:"
   ]
  },
  {
   "cell_type": "code",
   "execution_count": 18,
   "metadata": {},
   "outputs": [
    {
     "name": "stdout",
     "output_type": "stream",
     "text": [
      "     Name  Age  Marks       City\n",
      "1  Anjali   17     92     Mumbai\n",
      "3    Neha   18     88    Chennai\n",
      "0   Rahul   18     85      Delhi\n",
      "2  Sameer   19     75  Bangalore\n"
     ]
    }
   ],
   "source": [
    "# Sort by Age, then by Marks\n",
    "sorted_df_multi = df.sort_values(by=['Age', 'Marks'], ascending=[True, False])\n",
    "print(sorted_df_multi)"
   ]
  },
  {
   "cell_type": "markdown",
   "metadata": {},
   "source": [
    "## 5. Group By Operations\n",
    "The groupby() function is powerful for aggregating data based on one or more columns. You can compute statistics like mean, sum, count, etc.\n",
    "\n",
    "Example: Group By City and Calculate Average Marks"
   ]
  },
  {
   "cell_type": "code",
   "execution_count": 19,
   "metadata": {},
   "outputs": [
    {
     "name": "stdout",
     "output_type": "stream",
     "text": [
      "        City  Marks\n",
      "0  Bangalore   75.0\n",
      "1    Chennai   88.0\n",
      "2      Delhi   85.0\n",
      "3     Mumbai   92.0\n"
     ]
    }
   ],
   "source": [
    "# Group by City and calculate average Marks\n",
    "grouped_df = df.groupby('City')['Marks'].mean().reset_index()\n",
    "print(grouped_df)"
   ]
  },
  {
   "cell_type": "markdown",
   "metadata": {},
   "source": [
    "The reset_index() method is used to convert the resulting series back into a DataFrame."
   ]
  },
  {
   "cell_type": "markdown",
   "metadata": {},
   "source": [
    "## 6. Applying Functions with apply()\n",
    "The apply() function lets you apply a custom function across rows or columns. This is especially useful for data transformations.\n",
    "\n",
    "Example: Increase Marks by 5"
   ]
  },
  {
   "cell_type": "code",
   "execution_count": 20,
   "metadata": {},
   "outputs": [
    {
     "name": "stdout",
     "output_type": "stream",
     "text": [
      "     Name  Age  Marks       City  Updated Marks\n",
      "0   Rahul   18     85      Delhi             90\n",
      "1  Anjali   17     92     Mumbai             97\n",
      "2  Sameer   19     75  Bangalore             80\n",
      "3    Neha   18     88    Chennai             93\n"
     ]
    }
   ],
   "source": [
    "# Define a function to increase marks\n",
    "def increase_marks(marks):\n",
    "    return marks + 5\n",
    "\n",
    "# Apply the function to Marks column\n",
    "df['Updated Marks'] = df['Marks'].apply(increase_marks)\n",
    "print(df)"
   ]
  },
  {
   "cell_type": "markdown",
   "metadata": {},
   "source": [
    "## 7. Handling Missing Data\n",
    "Missing data can skew your analysis, so handling it properly is crucial.\n",
    "\n",
    "Example: Dropping Missing Values"
   ]
  },
  {
   "cell_type": "code",
   "execution_count": 21,
   "metadata": {},
   "outputs": [
    {
     "name": "stdout",
     "output_type": "stream",
     "text": [
      "     Name  Age  Marks     City  Updated Marks\n",
      "0   Rahul   18   85.0    Delhi             90\n",
      "1  Anjali   17   92.0   Mumbai             97\n",
      "3    Neha   18   88.0  Chennai             93\n"
     ]
    }
   ],
   "source": [
    "# Assuming there are missing values in the DataFrame\n",
    "df.loc[2, 'Marks'] = None  # Introduce a missing value for demonstration\n",
    "\n",
    "# Drop rows with any missing values\n",
    "cleaned_df = df.dropna()\n",
    "print(cleaned_df)"
   ]
  },
  {
   "cell_type": "markdown",
   "metadata": {},
   "source": [
    "filling missing value"
   ]
  },
  {
   "cell_type": "code",
   "execution_count": 22,
   "metadata": {},
   "outputs": [
    {
     "name": "stdout",
     "output_type": "stream",
     "text": [
      "     Name  Age      Marks       City  Updated Marks\n",
      "0   Rahul   18  85.000000      Delhi             90\n",
      "1  Anjali   17  92.000000     Mumbai             97\n",
      "2  Sameer   19  88.333333  Bangalore             80\n",
      "3    Neha   18  88.000000    Chennai             93\n"
     ]
    }
   ],
   "source": [
    "# Calculate the mean and fill missing values without inplace\n",
    "df['Marks'] = df['Marks'].fillna(df['Marks'].mean())\n",
    "print(df)"
   ]
  },
  {
   "cell_type": "markdown",
   "metadata": {},
   "source": [
    "## 8. Merging DataFrames\n",
    "Merging is similar to SQL joins. It’s useful when you have related datasets that you want to combine.\n",
    "\n",
    "Example: Merging Two DataFrames"
   ]
  },
  {
   "cell_type": "code",
   "execution_count": 23,
   "metadata": {},
   "outputs": [
    {
     "name": "stdout",
     "output_type": "stream",
     "text": [
      "     Name  Age      Marks     City_x  Updated Marks     City_y\n",
      "0   Rahul   18  85.000000      Delhi             90      Delhi\n",
      "1  Anjali   17  92.000000     Mumbai             97     Mumbai\n",
      "2  Sameer   19  88.333333  Bangalore             80  Bangalore\n",
      "3    Neha   18  88.000000    Chennai             93    Chennai\n"
     ]
    }
   ],
   "source": [
    "# Create another DataFrame with City info\n",
    "data2 = {\n",
    "    'Name': ['Rahul', 'Anjali', 'Sameer', 'Neha'],\n",
    "    'City': ['Delhi', 'Mumbai', 'Bangalore', 'Chennai']\n",
    "}\n",
    "df2 = pd.DataFrame(data2)\n",
    "\n",
    "# Merge on Name\n",
    "merged_df = pd.merge(df, df2, on='Name')\n",
    "print(merged_df)"
   ]
  },
  {
   "cell_type": "markdown",
   "metadata": {},
   "source": [
    "## 1. Concatenating DataFrames\n",
    "Concatenation is useful when you need to combine two or more DataFrames either vertically (stack rows) or horizontally (merge columns). You can use pd.concat() for this.\n",
    "\n",
    "Vertical Concatenation (Stacking DataFrames)"
   ]
  },
  {
   "cell_type": "code",
   "execution_count": 28,
   "metadata": {},
   "outputs": [
    {
     "name": "stdout",
     "output_type": "stream",
     "text": [
      "     Name  Marks\n",
      "0   Rahul     85\n",
      "1  Anjali     92\n",
      "2  Sameer     75\n",
      "3    Neha     88\n"
     ]
    }
   ],
   "source": [
    "import pandas as pd\n",
    "\n",
    "# Create two DataFrames\n",
    "df1 = pd.DataFrame({\n",
    "    'Name': ['Rahul', 'Anjali'],\n",
    "    'Marks': [85, 92]\n",
    "})\n",
    "\n",
    "df2 = pd.DataFrame({\n",
    "    'Name': ['Sameer', 'Neha'],\n",
    "    'Marks': [75, 88]\n",
    "})\n",
    "\n",
    "# Concatenate vertically\n",
    "df_concat = pd.concat([df1, df2], ignore_index=True)\n",
    "print(df_concat)"
   ]
  },
  {
   "cell_type": "markdown",
   "metadata": {},
   "source": [
    "Horizontal Concatenation (Joining DataFrames by columns)"
   ]
  },
  {
   "cell_type": "code",
   "execution_count": 29,
   "metadata": {},
   "outputs": [
    {
     "name": "stdout",
     "output_type": "stream",
     "text": [
      "     Name  Age    City  Marks\n",
      "0   Rahul   18   Delhi     85\n",
      "1  Anjali   17  Mumbai     92\n"
     ]
    }
   ],
   "source": [
    "# Create two DataFrames with the same index but different columns\n",
    "df3 = pd.DataFrame({\n",
    "    'Name': ['Rahul', 'Anjali'],\n",
    "    'Age': [18, 17]\n",
    "})\n",
    "\n",
    "df4 = pd.DataFrame({\n",
    "    'City': ['Delhi', 'Mumbai'],\n",
    "    'Marks': [85, 92]\n",
    "})\n",
    "\n",
    "# Concatenate horizontally\n",
    "df_concat_horiz = pd.concat([df3, df4], axis=1)\n",
    "print(df_concat_horiz)"
   ]
  },
  {
   "cell_type": "markdown",
   "metadata": {},
   "source": [
    "## 2. GroupBy Operations\n",
    "groupby() is a powerful function that allows you to group data based on certain criteria, and then apply aggregate functions like mean(), sum(), count(), etc."
   ]
  },
  {
   "cell_type": "code",
   "execution_count": 30,
   "metadata": {},
   "outputs": [
    {
     "name": "stdout",
     "output_type": "stream",
     "text": [
      "Subject\n",
      "Math       84.000000\n",
      "Science    81.666667\n",
      "Name: Marks, dtype: float64\n"
     ]
    }
   ],
   "source": [
    "# Sample DataFrame\n",
    "df = pd.DataFrame({\n",
    "    'Name': ['Rahul', 'Anjali', 'Sameer', 'Neha', 'Rahul', 'Sameer'],\n",
    "    'Subject': ['Math', 'Math', 'Math', 'Science', 'Science', 'Science'],\n",
    "    'Marks': [85, 92, 75, 88, 80, 77]\n",
    "})\n",
    "\n",
    "# Group by Subject and calculate the mean of Marks\n",
    "grouped = df.groupby('Subject')['Marks'].mean()\n",
    "print(grouped)"
   ]
  },
  {
   "cell_type": "markdown",
   "metadata": {},
   "source": [
    "You can also group by multiple columns:"
   ]
  },
  {
   "cell_type": "code",
   "execution_count": 31,
   "metadata": {},
   "outputs": [
    {
     "name": "stdout",
     "output_type": "stream",
     "text": [
      "Name    Subject\n",
      "Anjali  Math       92\n",
      "Neha    Science    88\n",
      "Rahul   Math       85\n",
      "        Science    80\n",
      "Sameer  Math       75\n",
      "        Science    77\n",
      "Name: Marks, dtype: int64\n"
     ]
    }
   ],
   "source": [
    "# Group by Name and Subject, then calculate the sum of Marks\n",
    "grouped_multiple = df.groupby(['Name', 'Subject'])['Marks'].sum()\n",
    "print(grouped_multiple)"
   ]
  },
  {
   "cell_type": "markdown",
   "metadata": {},
   "source": [
    "## 3. Pivot Tables\n",
    "Pivot tables allow you to reorganize and summarize data. They work similarly to pivot tables in Excel."
   ]
  },
  {
   "cell_type": "code",
   "execution_count": 32,
   "metadata": {},
   "outputs": [
    {
     "name": "stdout",
     "output_type": "stream",
     "text": [
      "Subject  Math  Science\n",
      "Name                  \n",
      "Anjali   92.0      NaN\n",
      "Neha      NaN     88.0\n",
      "Rahul    85.0      NaN\n",
      "Sameer    NaN     75.0\n"
     ]
    }
   ],
   "source": [
    "# Sample DataFrame\n",
    "df = pd.DataFrame({\n",
    "    'Name': ['Rahul', 'Anjali', 'Sameer', 'Neha'],\n",
    "    'Subject': ['Math', 'Math', 'Science', 'Science'],\n",
    "    'Marks': [85, 92, 75, 88]\n",
    "})\n",
    "\n",
    "# Create a pivot table to summarize Marks by Subject and Name\n",
    "pivot_table = df.pivot_table(index='Name', columns='Subject', values='Marks', aggfunc='mean')\n",
    "print(pivot_table)"
   ]
  },
  {
   "cell_type": "markdown",
   "metadata": {},
   "source": [
    "## 4. Reshaping Data (Melt and Pivot)\n",
    "Melt: Converts a DataFrame into a long format by unpivoting columns."
   ]
  },
  {
   "cell_type": "code",
   "execution_count": 33,
   "metadata": {},
   "outputs": [
    {
     "name": "stdout",
     "output_type": "stream",
     "text": [
      "     Name  Subject  Marks\n",
      "0   Rahul     Math     85\n",
      "1  Anjali     Math     92\n",
      "2   Rahul  Science     88\n",
      "3  Anjali  Science     95\n"
     ]
    }
   ],
   "source": [
    "# Sample DataFrame\n",
    "df = pd.DataFrame({\n",
    "    'Name': ['Rahul', 'Anjali'],\n",
    "    'Math': [85, 92],\n",
    "    'Science': [88, 95]\n",
    "})\n",
    "\n",
    "# Melt the DataFrame to get a long format\n",
    "df_melt = pd.melt(df, id_vars=['Name'], var_name='Subject', value_name='Marks')\n",
    "print(df_melt)"
   ]
  },
  {
   "cell_type": "markdown",
   "metadata": {},
   "source": [
    "Pivot: The opposite of melt, used to reshape data back into a wide format."
   ]
  },
  {
   "cell_type": "code",
   "execution_count": 34,
   "metadata": {},
   "outputs": [
    {
     "name": "stdout",
     "output_type": "stream",
     "text": [
      "Subject  Math  Science\n",
      "Name                  \n",
      "Anjali     92       95\n",
      "Rahul      85       88\n"
     ]
    }
   ],
   "source": [
    "# Pivot back to wide format\n",
    "df_pivot = df_melt.pivot(index='Name', columns='Subject', values='Marks')\n",
    "print(df_pivot)"
   ]
  },
  {
   "cell_type": "markdown",
   "metadata": {},
   "source": [
    "## 5. Handling MultiIndex\n",
    "Pandas supports hierarchical indexing, or MultiIndex. This is useful when working with complex datasets"
   ]
  },
  {
   "cell_type": "code",
   "execution_count": 35,
   "metadata": {},
   "outputs": [
    {
     "name": "stdout",
     "output_type": "stream",
     "text": [
      "Marks    85\n",
      "Name: (Rahul, Math), dtype: int64\n",
      "         Marks\n",
      "Subject       \n",
      "Math        85\n",
      "Science     88\n"
     ]
    }
   ],
   "source": [
    "# Sample DataFrame with MultiIndex\n",
    "arrays = [\n",
    "    ['Rahul', 'Rahul', 'Anjali', 'Anjali'],\n",
    "    ['Math', 'Science', 'Math', 'Science']\n",
    "]\n",
    "index = pd.MultiIndex.from_arrays(arrays, names=('Name', 'Subject'))\n",
    "\n",
    "df_multi = pd.DataFrame({'Marks': [85, 88, 92, 95]}, index=index)\n",
    "\n",
    "# Access data for Rahul's Math marks\n",
    "print(df_multi.loc[('Rahul', 'Math')])\n",
    "\n",
    "# Access all data for Rahul\n",
    "print(df_multi.loc['Rahul'])"
   ]
  },
  {
   "cell_type": "markdown",
   "metadata": {},
   "source": [
    "## 6. Advanced Filtering with query()\n",
    "The query() function provides a cleaner and faster way to filter rows based on conditions."
   ]
  },
  {
   "cell_type": "code",
   "execution_count": 36,
   "metadata": {},
   "outputs": [
    {
     "name": "stdout",
     "output_type": "stream",
     "text": [
      "     Name  Marks  Age\n",
      "1  Anjali     92   17\n"
     ]
    }
   ],
   "source": [
    "# Sample DataFrame\n",
    "df = pd.DataFrame({\n",
    "    'Name': ['Rahul', 'Anjali', 'Sameer', 'Neha'],\n",
    "    'Marks': [85, 92, 75, 88],\n",
    "    'Age': [18, 17, 19, 18]\n",
    "})\n",
    "\n",
    "# Filter rows where Marks are greater than 80 and Age is less than 18\n",
    "df_filtered = df.query('Marks > 80 & Age < 18')\n",
    "print(df_filtered)"
   ]
  },
  {
   "cell_type": "markdown",
   "metadata": {},
   "source": [
    "## 7. Applying Custom Functions to DataFrames\n",
    "You can apply custom functions to rows or columns using the apply() function."
   ]
  },
  {
   "cell_type": "code",
   "execution_count": 37,
   "metadata": {},
   "outputs": [
    {
     "name": "stdout",
     "output_type": "stream",
     "text": [
      "     Name  Marks  Age Performance\n",
      "0   Rahul     85   18        Good\n",
      "1  Anjali     92   17   Excellent\n",
      "2  Sameer     75   19        Good\n",
      "3    Neha     88   18        Good\n"
     ]
    }
   ],
   "source": [
    "# Custom function to classify students based on Marks\n",
    "def classify_marks(marks):\n",
    "    if marks >= 90:\n",
    "        return 'Excellent'\n",
    "    elif marks >= 75:\n",
    "        return 'Good'\n",
    "    else:\n",
    "        return 'Average'\n",
    "\n",
    "# Apply the function to the Marks column\n",
    "df['Performance'] = df['Marks'].apply(classify_marks)\n",
    "print(df)"
   ]
  },
  {
   "cell_type": "markdown",
   "metadata": {},
   "source": [
    "## 8. Dealing with Time-Series Data\n",
    "Pandas has robust support for time-series data. You can convert date columns to datetime and perform time-based indexing."
   ]
  },
  {
   "cell_type": "code",
   "execution_count": 38,
   "metadata": {},
   "outputs": [
    {
     "name": "stdout",
     "output_type": "stream",
     "text": [
      "            Marks\n",
      "Date             \n",
      "2024-10-17     85\n",
      "2024-10-18     90\n"
     ]
    }
   ],
   "source": [
    "# Sample DataFrame with date\n",
    "df = pd.DataFrame({\n",
    "    'Date': ['2024-10-17', '2024-10-18', '2024-10-19'],\n",
    "    'Marks': [85, 90, 88]\n",
    "})\n",
    "\n",
    "# Convert Date column to datetime\n",
    "df['Date'] = pd.to_datetime(df['Date'])\n",
    "\n",
    "# Set Date as index\n",
    "df.set_index('Date', inplace=True)\n",
    "\n",
    "# Filter data for a specific date range\n",
    "df_filtered = df.loc['2024-10-17':'2024-10-18']\n",
    "print(df_filtered)"
   ]
  },
  {
   "cell_type": "markdown",
   "metadata": {},
   "source": [
    "### 1. **Concatenating DataFrames** \n",
    "\n",
    "Concatenation is like when you're combining two or more tables either row-wise or column-wise. Think of it like stacking notebooks on top of each other or side by side.\n",
    "\n",
    "#### Vertical Concatenation (Stacking Rows)\n",
    "Suppose you have marks data from two classes. You want to combine them so that you can see all the students' marks in one DataFrame.\n",
    "\n",
    "```python\n",
    "import pandas as pd\n",
    "\n",
    "# Class 1 data\n",
    "df1 = pd.DataFrame({\n",
    "    'Name': ['Rahul', 'Anjali'],\n",
    "    'Marks': [85, 92]\n",
    "})\n",
    "\n",
    "# Class 2 data\n",
    "df2 = pd.DataFrame({\n",
    "    'Name': ['Sameer', 'Neha'],\n",
    "    'Marks': [75, 88]\n",
    "})\n",
    "\n",
    "# Concatenating vertically (stacking rows)\n",
    "df_concat = pd.concat([df1, df2], ignore_index=True)\n",
    "print(df_concat)\n",
    "```\n",
    "This code stacks both classes' data together, as if you’re merging two lists of students into one.\n",
    "\n",
    "#### Horizontal Concatenation (Adding Columns)\n",
    "Now, let's say you have separate tables for names and cities, and you want to add the cities next to the names, just like you're adding an extra column in your Excel sheet.\n",
    "\n",
    "```python\n",
    "# Names and Age\n",
    "df3 = pd.DataFrame({\n",
    "    'Name': ['Rahul', 'Anjali'],\n",
    "    'Age': [18, 17]\n",
    "})\n",
    "\n",
    "# Cities and Marks\n",
    "df4 = pd.DataFrame({\n",
    "    'City': ['Delhi', 'Mumbai'],\n",
    "    'Marks': [85, 92]\n",
    "})\n",
    "\n",
    "# Concatenate horizontally (adding columns)\n",
    "df_concat_horiz = pd.concat([df3, df4], axis=1)\n",
    "print(df_concat_horiz)\n",
    "```\n",
    "Here, we are combining two DataFrames column-wise. It’s like writing each student's name on one side of the sheet and their city on the other side.\n",
    "\n",
    "### 2. **GroupBy Operations**\n",
    "\n",
    "Grouping is like organizing data based on a key or category. Suppose you want to group students by their subjects and then calculate the average marks of each group.\n",
    "\n",
    "```python\n",
    "# Sample DataFrame with subjects\n",
    "df = pd.DataFrame({\n",
    "    'Name': ['Rahul', 'Anjali', 'Sameer', 'Neha', 'Rahul', 'Sameer'],\n",
    "    'Subject': ['Math', 'Math', 'Math', 'Science', 'Science', 'Science'],\n",
    "    'Marks': [85, 92, 75, 88, 80, 77]\n",
    "})\n",
    "\n",
    "# Group by Subject and calculate the average Marks\n",
    "grouped = df.groupby('Subject')['Marks'].mean()\n",
    "print(grouped)\n",
    "```\n",
    "Grouping helps in organizing large datasets, just like we separate students into different sections or batches and calculate class averages.\n",
    "\n",
    "#### Grouping by Multiple Columns:\n",
    "Sometimes you may want to group students by both **Name** and **Subject**, and see their total marks for each subject.\n",
    "\n",
    "```python\n",
    "# Group by both Name and Subject\n",
    "grouped_multiple = df.groupby(['Name', 'Subject'])['Marks'].sum()\n",
    "print(grouped_multiple)\n",
    "```\n",
    "This method is useful when you have more complex categories to analyze, like in school records when you want to know each student's performance across subjects.\n",
    "\n",
    "### 3. **Pivot Tables** \n",
    "\n",
    "Pivot tables are like the tables we make when we want to summarize data. It helps in seeing the data from a different angle. \n",
    "\n",
    "```python\n",
    "df = pd.DataFrame({\n",
    "    'Name': ['Rahul', 'Anjali', 'Sameer', 'Neha'],\n",
    "    'Subject': ['Math', 'Math', 'Science', 'Science'],\n",
    "    'Marks': [85, 92, 75, 88]\n",
    "})\n",
    "\n",
    "# Create pivot table showing Marks for each Subject and Name\n",
    "pivot_table = df.pivot_table(index='Name', columns='Subject', values='Marks', aggfunc='mean')\n",
    "print(pivot_table)\n",
    "```\n",
    "In this example, we are summarizing the marks of each student based on their subjects, much like how a school report card summarizes subject-wise marks for each student.\n",
    "\n",
    "### 4. **Reshaping Data: Melting and Pivoting**\n",
    "\n",
    "#### **Melt**: \n",
    "Melting is when you convert a wide format table into a long format. Suppose you have multiple columns (like \"Math Marks\" and \"Science Marks\") and you want them in one single column as \"Subject\" and another for \"Marks\".\n",
    "\n",
    "```python\n",
    "df = pd.DataFrame({\n",
    "    'Name': ['Rahul', 'Anjali'],\n",
    "    'Math': [85, 92],\n",
    "    'Science': [88, 95]\n",
    "})\n",
    "\n",
    "# Melt to long format\n",
    "df_melt = pd.melt(df, id_vars=['Name'], var_name='Subject', value_name='Marks')\n",
    "print(df_melt)\n",
    "```\n",
    "This is like converting multiple rows into one compact format, where each row now represents one subject and its corresponding marks.\n",
    "\n",
    "#### **Pivot**: \n",
    "Pivoting is the reverse of melting. You take a long-form DataFrame and turn it back into a wide form.\n",
    "\n",
    "```python\n",
    "# Pivot back to wide format\n",
    "df_pivot = df_melt.pivot(index='Name', columns='Subject', values='Marks')\n",
    "print(df_pivot)\n",
    "```\n",
    "This is like rearranging data back into its original format. Pivoting is often used when you want to see the broader view of your data, like putting marks back into subject-wise columns.\n",
    "\n",
    "### 5. **MultiIndex (Hierarchical Indexing)**\n",
    "\n",
    "MultiIndexing is like when you have two levels of indexing. It helps in managing complex data with two (or more) levels of categorization.\n",
    "\n",
    "```python\n",
    "arrays = [\n",
    "    ['Rahul', 'Rahul', 'Anjali', 'Anjali'],\n",
    "    ['Math', 'Science', 'Math', 'Science']\n",
    "]\n",
    "index = pd.MultiIndex.from_arrays(arrays, names=('Name', 'Subject'))\n",
    "\n",
    "df_multi = pd.DataFrame({'Marks': [85, 88, 92, 95]}, index=index)\n",
    "\n",
    "# Accessing specific data\n",
    "print(df_multi.loc[('Rahul', 'Math')])\n",
    "\n",
    "# Accessing all data for 'Rahul'\n",
    "print(df_multi.loc['Rahul'])\n",
    "```\n",
    "In this example, we are using two levels for our data: the student's name and the subject they studied. This allows us to easily access specific rows based on multiple conditions.\n",
    "\n",
    "### 6. **Advanced Filtering with `query()`**\n",
    "\n",
    "Instead of using complex conditions with brackets (`&`, `|`), Pandas provides a cleaner way to filter data with `query()`.\n",
    "\n",
    "```python\n",
    "df = pd.DataFrame({\n",
    "    'Name': ['Rahul', 'Anjali', 'Sameer', 'Neha'],\n",
    "    'Marks': [85, 92, 75, 88],\n",
    "    'Age': [18, 17, 19, 18]\n",
    "})\n",
    "\n",
    "# Filter students with Marks greater than 80 and Age less than 18\n",
    "df_filtered = df.query('Marks > 80 & Age < 18')\n",
    "print(df_filtered)\n",
    "```\n",
    "This method allows you to filter data in a very human-readable form, just like asking a question or giving instructions like \"Give me students who scored more than 80 and are younger than 18\".\n",
    "\n",
    "### 7. **Custom Functions with `apply()`**\n",
    "\n",
    "Sometimes, basic functions aren't enough, and you need to apply custom logic. For example, classifying students based on their marks.\n",
    "\n",
    "```python\n",
    "def classify_marks(marks):\n",
    "    if marks >= 90:\n",
    "        return 'Excellent'\n",
    "    elif marks >= 75:\n",
    "        return 'Good'\n",
    "    else:\n",
    "        return 'Average'\n",
    "\n",
    "# Apply custom function\n",
    "df['Performance'] = df['Marks'].apply(classify_marks)\n",
    "print(df)\n",
    "```\n",
    "Here, we are assigning students a performance label based on their marks. `apply()` allows you to add your own logic, just like applying your own judgment criteria."
   ]
  },
  {
   "cell_type": "markdown",
   "metadata": {},
   "source": [
    "## 1. Advanced Data Cleaning Techniques\n",
    "You’ve touched upon basic data cleaning. Let's now explore more sophisticated techniques for handling messy datasets.\n",
    "\n",
    "Detecting and Handling Outliers: Outliers can heavily influence your data analysis."
   ]
  },
  {
   "cell_type": "code",
   "execution_count": 39,
   "metadata": {},
   "outputs": [
    {
     "name": "stdout",
     "output_type": "stream",
     "text": [
      "Empty DataFrame\n",
      "Columns: [Name, Marks, Age]\n",
      "Index: []\n"
     ]
    }
   ],
   "source": [
    "import numpy as np\n",
    "df = pd.DataFrame({\n",
    "    'Name': ['Rahul', 'Anjali', 'Sameer', 'Neha'],\n",
    "    'Marks': [85, 100, 400, 88],\n",
    "    'Age': [18, 17, 19, 18]\n",
    "})\n",
    "\n",
    "# Using Z-Score to identify outliers\n",
    "from scipy import stats\n",
    "z_scores = np.abs(stats.zscore(df['Marks']))\n",
    "df_outliers = df[z_scores > 3]  # Marks with z-score > 3 are considered outliers\n",
    "print(df_outliers)"
   ]
  },
  {
   "cell_type": "markdown",
   "metadata": {},
   "source": [
    "Outliers often distort data, so this method is useful for identifying extreme deviations."
   ]
  },
  {
   "cell_type": "markdown",
   "metadata": {},
   "source": [
    "Imputation Techniques: Beyond filling missing values with mean(), we can use more intelligent methods like interpolation and forward-filling."
   ]
  },
  {
   "cell_type": "code",
   "execution_count": 41,
   "metadata": {},
   "outputs": [
    {
     "name": "stderr",
     "output_type": "stream",
     "text": [
      "C:\\Users\\abhis\\AppData\\Local\\Temp\\ipykernel_38804\\2053570204.py:2: FutureWarning: Series.fillna with 'method' is deprecated and will raise in a future version. Use obj.ffill() or obj.bfill() instead.\n",
      "  df['Marks'] = df['Marks'].fillna(method='ffill')\n"
     ]
    }
   ],
   "source": [
    "df['Marks'] = df['Marks'].interpolate(method='linear')\n",
    "df['Marks'] = df['Marks'].fillna(method='ffill')"
   ]
  },
  {
   "cell_type": "markdown",
   "metadata": {},
   "source": [
    "## 2. Window Functions (Rolling, Expanding, and EWMA)\n",
    "Window functions help compute moving averages or cumulative sums, which is useful in time series analysis. This gives a deeper understanding of data trends and smoothing techniques.\n",
    "\n",
    "Rolling Window: Moving averages and other aggregations over a rolling window of time or data points."
   ]
  },
  {
   "cell_type": "code",
   "execution_count": 42,
   "metadata": {},
   "outputs": [
    {
     "name": "stdout",
     "output_type": "stream",
     "text": [
      "   Marks  Rolling_Avg\n",
      "0     88          NaN\n",
      "1     85          NaN\n",
      "2     92    88.333333\n",
      "3     75    84.000000\n",
      "4     89    85.333333\n",
      "5     91    85.000000\n",
      "6     94    91.333333\n"
     ]
    }
   ],
   "source": [
    "df = pd.DataFrame({\n",
    "    'Marks': [88, 85, 92, 75, 89, 91, 94]\n",
    "})\n",
    "\n",
    "# Rolling average over a window of 3 values\n",
    "df['Rolling_Avg'] = df['Marks'].rolling(window=3).mean()\n",
    "print(df)"
   ]
  },
  {
   "cell_type": "markdown",
   "metadata": {},
   "source": [
    "Expanding Window: Cumulative operations across all previous values."
   ]
  },
  {
   "cell_type": "code",
   "execution_count": 43,
   "metadata": {},
   "outputs": [],
   "source": [
    "# Expanding cumulative sum of marks\n",
    "df['Expanding_Sum'] = df['Marks'].expanding(min_periods=1).sum()"
   ]
  },
  {
   "cell_type": "code",
   "execution_count": 45,
   "metadata": {},
   "outputs": [
    {
     "data": {
      "text/plain": [
       "0     88.0\n",
       "1    173.0\n",
       "2    265.0\n",
       "3    340.0\n",
       "4    429.0\n",
       "5    520.0\n",
       "6    614.0\n",
       "Name: Expanding_Sum, dtype: float64"
      ]
     },
     "execution_count": 45,
     "metadata": {},
     "output_type": "execute_result"
    }
   ],
   "source": [
    "df['Expanding_Sum']"
   ]
  },
  {
   "cell_type": "markdown",
   "metadata": {},
   "source": [
    "Exponentially Weighted Moving Average (EWMA):"
   ]
  },
  {
   "cell_type": "code",
   "execution_count": 44,
   "metadata": {},
   "outputs": [],
   "source": [
    "# EWMA for smoother data trends\n",
    "df['EWMA'] = df['Marks'].ewm(span=3, adjust=False).mean()"
   ]
  },
  {
   "cell_type": "code",
   "execution_count": 46,
   "metadata": {},
   "outputs": [
    {
     "data": {
      "text/plain": [
       "0    88.000000\n",
       "1    86.500000\n",
       "2    89.250000\n",
       "3    82.125000\n",
       "4    85.562500\n",
       "5    88.281250\n",
       "6    91.140625\n",
       "Name: EWMA, dtype: float64"
      ]
     },
     "execution_count": 46,
     "metadata": {},
     "output_type": "execute_result"
    }
   ],
   "source": [
    "df['EWMA']"
   ]
  },
  {
   "cell_type": "markdown",
   "metadata": {},
   "source": [
    "## 3. Merging Techniques: Complex Joins and Merging on Indexes\n",
    "You’ve already covered basic merging, but let’s explore more complex joins and how to merge on indexes or using conditions:\n",
    "\n",
    "Merging on Indexes: Sometimes, you need to merge based on the DataFrame's index rather than a column."
   ]
  },
  {
   "cell_type": "code",
   "execution_count": 47,
   "metadata": {},
   "outputs": [
    {
     "name": "stdout",
     "output_type": "stream",
     "text": [
      "        Marks       City\n",
      "Rahul      85      Delhi\n",
      "Anjali     92     Mumbai\n",
      "Sameer     75  Bangalore\n",
      "Neha       88    Chennai\n"
     ]
    }
   ],
   "source": [
    "df1 = pd.DataFrame({\n",
    "    'Marks': [85, 92, 75, 88]\n",
    "}, index=['Rahul', 'Anjali', 'Sameer', 'Neha'])\n",
    "\n",
    "df2 = pd.DataFrame({\n",
    "    'City': ['Delhi', 'Mumbai', 'Bangalore', 'Chennai']\n",
    "}, index=['Rahul', 'Anjali', 'Sameer', 'Neha'])\n",
    "\n",
    "# Merge on index\n",
    "df_merged = df1.merge(df2, left_index=True, right_index=True)\n",
    "print(df_merged)"
   ]
  },
  {
   "cell_type": "markdown",
   "metadata": {},
   "source": [
    "Joining on Conditions: When the merging key is not identical between datasets."
   ]
  },
  {
   "cell_type": "code",
   "execution_count": 49,
   "metadata": {},
   "outputs": [
    {
     "name": "stdout",
     "output_type": "stream",
     "text": [
      "     Name  Marks Student       City\n",
      "0   Rahul     85   Rahul      Delhi\n",
      "1  Anjali     92     NaN        NaN\n",
      "2  Sameer     75  Sameer  Bangalore\n",
      "3    Neha     88     NaN        NaN\n"
     ]
    }
   ],
   "source": [
    "df_left = pd.DataFrame({\n",
    "    'Name': ['Rahul', 'Anjali', 'Sameer', 'Neha'],\n",
    "    'Marks': [85, 92, 75, 88]\n",
    "})\n",
    "\n",
    "df_right = pd.DataFrame({\n",
    "    'Student': ['Rahul', 'Sameer'],\n",
    "    'City': ['Delhi', 'Bangalore']\n",
    "})\n",
    "\n",
    "# Conditional join\n",
    "df_joined = df_left.merge(df_right, left_on='Name', right_on='Student', how='left')\n",
    "print(df_joined)"
   ]
  },
  {
   "cell_type": "markdown",
   "metadata": {},
   "source": [
    "## 4. Time Series Data Manipulation\n",
    "Handling time-based data in Pandas is essential, especially for datasets involving dates and times, like stock prices, sales data, etc.\n",
    "\n",
    "Datetime Index: Convert a column to a datetime index."
   ]
  },
  {
   "cell_type": "code",
   "execution_count": 50,
   "metadata": {},
   "outputs": [],
   "source": [
    "df = pd.DataFrame({\n",
    "    'Date': ['2024-10-17', '2024-10-18', '2024-10-19'],\n",
    "    'Marks': [85, 90, 95]\n",
    "})\n",
    "df['Date'] = pd.to_datetime(df['Date'])\n",
    "df.set_index('Date', inplace=True)"
   ]
  },
  {
   "cell_type": "code",
   "execution_count": 51,
   "metadata": {},
   "outputs": [
    {
     "data": {
      "text/html": [
       "<div>\n",
       "<style scoped>\n",
       "    .dataframe tbody tr th:only-of-type {\n",
       "        vertical-align: middle;\n",
       "    }\n",
       "\n",
       "    .dataframe tbody tr th {\n",
       "        vertical-align: top;\n",
       "    }\n",
       "\n",
       "    .dataframe thead th {\n",
       "        text-align: right;\n",
       "    }\n",
       "</style>\n",
       "<table border=\"1\" class=\"dataframe\">\n",
       "  <thead>\n",
       "    <tr style=\"text-align: right;\">\n",
       "      <th></th>\n",
       "      <th>Marks</th>\n",
       "    </tr>\n",
       "    <tr>\n",
       "      <th>Date</th>\n",
       "      <th></th>\n",
       "    </tr>\n",
       "  </thead>\n",
       "  <tbody>\n",
       "    <tr>\n",
       "      <th>2024-10-17</th>\n",
       "      <td>85</td>\n",
       "    </tr>\n",
       "    <tr>\n",
       "      <th>2024-10-18</th>\n",
       "      <td>90</td>\n",
       "    </tr>\n",
       "    <tr>\n",
       "      <th>2024-10-19</th>\n",
       "      <td>95</td>\n",
       "    </tr>\n",
       "  </tbody>\n",
       "</table>\n",
       "</div>"
      ],
      "text/plain": [
       "            Marks\n",
       "Date             \n",
       "2024-10-17     85\n",
       "2024-10-18     90\n",
       "2024-10-19     95"
      ]
     },
     "execution_count": 51,
     "metadata": {},
     "output_type": "execute_result"
    }
   ],
   "source": [
    "df"
   ]
  },
  {
   "cell_type": "markdown",
   "metadata": {},
   "source": [
    "Resampling: Aggregating time-based data into different periods (e.g., monthly, weekly)."
   ]
  },
  {
   "cell_type": "code",
   "execution_count": 52,
   "metadata": {},
   "outputs": [
    {
     "name": "stdout",
     "output_type": "stream",
     "text": [
      "            Marks\n",
      "Date             \n",
      "2024-10-17     85\n",
      "2024-10-18     90\n",
      "2024-10-19     95\n"
     ]
    }
   ],
   "source": [
    "# Resample data by day and calculate the sum\n",
    "df_resampled = df.resample('D').sum()\n",
    "print(df_resampled)"
   ]
  },
  {
   "cell_type": "markdown",
   "metadata": {},
   "source": [
    "Shifting and Lagging:"
   ]
  },
  {
   "cell_type": "code",
   "execution_count": 53,
   "metadata": {},
   "outputs": [],
   "source": [
    "# Shifting marks data to compare today with yesterday\n",
    "df['Previous_Day_Marks'] = df['Marks'].shift(1)"
   ]
  },
  {
   "cell_type": "code",
   "execution_count": 54,
   "metadata": {},
   "outputs": [
    {
     "data": {
      "text/html": [
       "<div>\n",
       "<style scoped>\n",
       "    .dataframe tbody tr th:only-of-type {\n",
       "        vertical-align: middle;\n",
       "    }\n",
       "\n",
       "    .dataframe tbody tr th {\n",
       "        vertical-align: top;\n",
       "    }\n",
       "\n",
       "    .dataframe thead th {\n",
       "        text-align: right;\n",
       "    }\n",
       "</style>\n",
       "<table border=\"1\" class=\"dataframe\">\n",
       "  <thead>\n",
       "    <tr style=\"text-align: right;\">\n",
       "      <th></th>\n",
       "      <th>Marks</th>\n",
       "      <th>Previous_Day_Marks</th>\n",
       "    </tr>\n",
       "    <tr>\n",
       "      <th>Date</th>\n",
       "      <th></th>\n",
       "      <th></th>\n",
       "    </tr>\n",
       "  </thead>\n",
       "  <tbody>\n",
       "    <tr>\n",
       "      <th>2024-10-17</th>\n",
       "      <td>85</td>\n",
       "      <td>NaN</td>\n",
       "    </tr>\n",
       "    <tr>\n",
       "      <th>2024-10-18</th>\n",
       "      <td>90</td>\n",
       "      <td>85.0</td>\n",
       "    </tr>\n",
       "    <tr>\n",
       "      <th>2024-10-19</th>\n",
       "      <td>95</td>\n",
       "      <td>90.0</td>\n",
       "    </tr>\n",
       "  </tbody>\n",
       "</table>\n",
       "</div>"
      ],
      "text/plain": [
       "            Marks  Previous_Day_Marks\n",
       "Date                                 \n",
       "2024-10-17     85                 NaN\n",
       "2024-10-18     90                85.0\n",
       "2024-10-19     95                90.0"
      ]
     },
     "execution_count": 54,
     "metadata": {},
     "output_type": "execute_result"
    }
   ],
   "source": [
    "df"
   ]
  },
  {
   "cell_type": "markdown",
   "metadata": {},
   "source": [
    "## 5. Advanced Indexing: Multi-level Indexing Operations\n",
    "Working with multi-level indices allows more complex slicing and selection operations.\n",
    "\n",
    "Accessing Data in Multi-level Indexing:"
   ]
  },
  {
   "cell_type": "code",
   "execution_count": 55,
   "metadata": {},
   "outputs": [
    {
     "name": "stdout",
     "output_type": "stream",
     "text": [
      "         Marks\n",
      "Subject       \n",
      "Math        85\n",
      "Marks    85\n",
      "Name: (Delhi, Math), dtype: int64\n"
     ]
    }
   ],
   "source": [
    "df = pd.DataFrame({\n",
    "    'City': ['Delhi', 'Mumbai', 'Bangalore', 'Chennai'],\n",
    "    'Subject': ['Math', 'Math', 'Science', 'Science'],\n",
    "    'Marks': [85, 92, 88, 75]\n",
    "})\n",
    "df.set_index(['City', 'Subject'], inplace=True)\n",
    "\n",
    "# Access data using Multi-level index\n",
    "print(df.loc['Delhi'])\n",
    "print(df.loc[('Delhi', 'Math')])"
   ]
  },
  {
   "cell_type": "markdown",
   "metadata": {},
   "source": [
    "Cross Section (xs):"
   ]
  },
  {
   "cell_type": "code",
   "execution_count": 56,
   "metadata": {},
   "outputs": [
    {
     "name": "stdout",
     "output_type": "stream",
     "text": [
      "        Marks\n",
      "City         \n",
      "Delhi      85\n",
      "Mumbai     92\n"
     ]
    }
   ],
   "source": [
    "# Get data for a specific level\n",
    "print(df.xs('Math', level='Subject'))"
   ]
  },
  {
   "cell_type": "markdown",
   "metadata": {},
   "source": [
    "## 6. Advanced DataFrame Aggregation Techniques\n",
    "Beyond the simple mean, sum, and count operations, you can apply custom aggregation functions across different columns.\n",
    "\n",
    "Custom Aggregation:"
   ]
  },
  {
   "cell_type": "code",
   "execution_count": 57,
   "metadata": {},
   "outputs": [
    {
     "name": "stdout",
     "output_type": "stream",
     "text": [
      "        Marks        \n",
      "         mean max min\n",
      "Subject              \n",
      "Math     88.5  92  85\n",
      "Science  81.5  88  75\n"
     ]
    }
   ],
   "source": [
    "df = pd.DataFrame({\n",
    "    'Subject': ['Math', 'Math', 'Science', 'Science'],\n",
    "    'Marks': [85, 92, 88, 75]\n",
    "})\n",
    "\n",
    "# Applying custom aggregations\n",
    "custom_agg = df.groupby('Subject').agg({\n",
    "    'Marks': ['mean', 'max', 'min']\n",
    "})\n",
    "print(custom_agg)"
   ]
  },
  {
   "cell_type": "markdown",
   "metadata": {},
   "source": [
    "Multiple Aggregations on Different Columns:"
   ]
  },
  {
   "cell_type": "code",
   "execution_count": 58,
   "metadata": {},
   "outputs": [
    {
     "name": "stdout",
     "output_type": "stream",
     "text": [
      "        Marks     Age    \n",
      "         mean max min max\n",
      "Subject                  \n",
      "Math     88.5  92  16  17\n",
      "Science  81.5  88  16  18\n"
     ]
    }
   ],
   "source": [
    "df['Age'] = [16, 17, 18, 16]\n",
    "custom_multi_agg = df.groupby('Subject').agg({\n",
    "    'Marks': ['mean', 'max'],\n",
    "    'Age': ['min', 'max']\n",
    "})\n",
    "print(custom_multi_agg)"
   ]
  },
  {
   "cell_type": "markdown",
   "metadata": {},
   "source": [
    "## 7. Advanced Plotting with Pandas\n",
    "Pandas allows for basic plotting, but you can take it a step further with customization using Matplotlib under the hood."
   ]
  },
  {
   "cell_type": "code",
   "execution_count": 59,
   "metadata": {},
   "outputs": [
    {
     "data": {
      "image/png": "[encoded data removed]",
      "text/plain": [
       "<Figure size 640x480 with 1 Axes>"
      ]
     },
     "metadata": {},
     "output_type": "display_data"
    }
   ],
   "source": [
    "import matplotlib.pyplot as plt\n",
    "\n",
    "df = pd.DataFrame({\n",
    "    'Name': ['Rahul', 'Anjali', 'Sameer', 'Neha'],\n",
    "    'Marks': [85, 92, 75, 88]\n",
    "})\n",
    "\n",
    "# Plotting marks\n",
    "df.plot(kind='bar', x='Name', y='Marks', color='skyblue')\n",
    "plt.title('Students Marks Comparison')\n",
    "plt.xlabel('Student Name')\n",
    "plt.ylabel('Marks')\n",
    "plt.show()"
   ]
  },
  {
   "cell_type": "markdown",
   "metadata": {},
   "source": [
    "## 8. Working with Large Datasets: Performance Optimization\n",
    "When handling large datasets, performance becomes critical. Let's explore methods to optimize memory usage and computation time:"
   ]
  },
  {
   "cell_type": "markdown",
   "metadata": {},
   "source": [
    "Memory Optimization with dtype:"
   ]
  },
  {
   "cell_type": "code",
   "execution_count": null,
   "metadata": {},
   "outputs": [],
   "source": [
    "df = pd.read_csv('large_data.csv', dtype={'Marks': 'int16'})"
   ]
  },
  {
   "cell_type": "markdown",
   "metadata": {},
   "source": [
    "Using chunk_size to Process Large Files in Batches:"
   ]
  },
  {
   "cell_type": "code",
   "execution_count": null,
   "metadata": {},
   "outputs": [],
   "source": [
    "# Process data in chunks of 1000 rows at a time\n",
    "chunk_size = 1000\n",
    "for chunk in pd.read_csv('large_data.csv', chunksize=chunk_size):\n",
    "    process(chunk)"
   ]
  },
  {
   "cell_type": "markdown",
   "metadata": {},
   "source": [
    "## 9. Pandas Extensions: df.pipe() for Clean Workflow\n",
    "The pipe() function in Pandas helps chain operations cleanly, making your code more readable."
   ]
  },
  {
   "cell_type": "code",
   "execution_count": 61,
   "metadata": {},
   "outputs": [],
   "source": [
    "def add_percentage(df):\n",
    "    df['Percentage'] = df['Marks'] / df['Marks'].max() * 100\n",
    "    return df\n",
    "\n",
    "# Use pipe to apply functions in sequence\n",
    "df = (df.pipe(add_percentage)\n",
    "        .pipe(lambda x: x.assign(Passed=lambda df: df['Marks'] > 50)))"
   ]
  },
  {
   "cell_type": "code",
   "execution_count": 62,
   "metadata": {},
   "outputs": [
    {
     "data": {
      "text/html": [
       "<div>\n",
       "<style scoped>\n",
       "    .dataframe tbody tr th:only-of-type {\n",
       "        vertical-align: middle;\n",
       "    }\n",
       "\n",
       "    .dataframe tbody tr th {\n",
       "        vertical-align: top;\n",
       "    }\n",
       "\n",
       "    .dataframe thead th {\n",
       "        text-align: right;\n",
       "    }\n",
       "</style>\n",
       "<table border=\"1\" class=\"dataframe\">\n",
       "  <thead>\n",
       "    <tr style=\"text-align: right;\">\n",
       "      <th></th>\n",
       "      <th>Name</th>\n",
       "      <th>Marks</th>\n",
       "      <th>Percentage</th>\n",
       "      <th>Passed</th>\n",
       "    </tr>\n",
       "  </thead>\n",
       "  <tbody>\n",
       "    <tr>\n",
       "      <th>0</th>\n",
       "      <td>Rahul</td>\n",
       "      <td>85</td>\n",
       "      <td>92.391304</td>\n",
       "      <td>True</td>\n",
       "    </tr>\n",
       "    <tr>\n",
       "      <th>1</th>\n",
       "      <td>Anjali</td>\n",
       "      <td>92</td>\n",
       "      <td>100.000000</td>\n",
       "      <td>True</td>\n",
       "    </tr>\n",
       "    <tr>\n",
       "      <th>2</th>\n",
       "      <td>Sameer</td>\n",
       "      <td>75</td>\n",
       "      <td>81.521739</td>\n",
       "      <td>True</td>\n",
       "    </tr>\n",
       "    <tr>\n",
       "      <th>3</th>\n",
       "      <td>Neha</td>\n",
       "      <td>88</td>\n",
       "      <td>95.652174</td>\n",
       "      <td>True</td>\n",
       "    </tr>\n",
       "  </tbody>\n",
       "</table>\n",
       "</div>"
      ],
      "text/plain": [
       "     Name  Marks  Percentage  Passed\n",
       "0   Rahul     85   92.391304    True\n",
       "1  Anjali     92  100.000000    True\n",
       "2  Sameer     75   81.521739    True\n",
       "3    Neha     88   95.652174    True"
      ]
     },
     "execution_count": 62,
     "metadata": {},
     "output_type": "execute_result"
    }
   ],
   "source": [
    "df"
   ]
  }
 ],
 "metadata": {
  "kernelspec": {
   "display_name": "Python 3",
   "language": "python",
   "name": "python3"
  },
  "language_info": {
   "codemirror_mode": {
    "name": "ipython",
    "version": 3
   },
   "file_extension": ".py",
   "mimetype": "text/x-python",
   "name": "python",
   "nbconvert_exporter": "python",
   "pygments_lexer": "ipython3",
   "version": "3.12.5"
  }
 },
 "nbformat": 4,
 "nbformat_minor": 2
}
