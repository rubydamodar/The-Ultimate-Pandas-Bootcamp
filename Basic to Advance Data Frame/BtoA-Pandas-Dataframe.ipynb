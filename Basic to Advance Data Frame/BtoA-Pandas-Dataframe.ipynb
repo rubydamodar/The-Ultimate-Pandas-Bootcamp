{
 "cells": [
  {
   "cell_type": "markdown",
   "metadata": {},
   "source": [
    "# Introduction to Pandas DataFrame "
   ]
  },
  {
   "cell_type": "markdown",
   "metadata": {},
   "source": [
    "Imagine you're in a classroom. The Pandas DataFrame is like a class register (attendance book). In that register:\n",
    "\n",
    "- The rows are like students in your class.\n",
    "- The columns are like the subjects each student has. For example: one column for \"Name\", another for \"Math marks\", one for \"Science marks\", etc.\n",
    "- The index is like the roll numbers assigned to each student.\n",
    "So, the Pandas DataFrame is nothing but a table that helps you organize your data in rows and columns, exactly like how you maintain school or college records."
   ]
  },
  {
   "cell_type": "markdown",
   "metadata": {},
   "source": [
    "### What is a DataFrame?"
   ]
  },
  {
   "cell_type": "markdown",
   "metadata": {},
   "source": [
    "A DataFrame is basically a 2D (two-dimensional) data structure in Pandas, meaning it has both rows and columns. It's one of the most important parts of Pandas, which is why we focus on it so much.\n",
    "\n",
    "- Just like your class register has names and marks of students, a DataFrame holds labeled data.\n",
    "- You can store different types of data in one DataFrame: numbers, strings (like names), dates, etc."
   ]
  },
  {
   "cell_type": "markdown",
   "metadata": {},
   "source": [
    "## Creating a Simple DataFrame:"
   ]
  },
  {
   "cell_type": "markdown",
   "metadata": {},
   "source": [
    "Now, let's say you want to create a DataFrame for a class with details of 3 students, their marks in Math, and the city they are from. In Pandas, you can do this using Python, and it’s as simple as writing the names and marks in the code."
   ]
  },
  {
   "cell_type": "markdown",
   "metadata": {},
   "source": [
    "To create a simple DataFrame in Pandas, you can use various data structures like lists, dictionaries, or even external data sources such as CSV files or databases. Let's start with the basics of DataFrame creation."
   ]
  },
  {
   "cell_type": "markdown",
   "metadata": {},
   "source": [
    "## 1. Creating a DataFrame from a Dictionary\n",
    "we are familiar with storing data in tabular forms like a school attendance register. Consider a dictionary as something like a record where each key is a \"column heading\" and the values are lists of \"entries\" in that column."
   ]
  },
  {
   "cell_type": "markdown",
   "metadata": {},
   "source": [
    "#### Example: Student details in a classroom"
   ]
  },
  {
   "cell_type": "code",
   "execution_count": 187,
   "metadata": {},
   "outputs": [
    {
     "name": "stdout",
     "output_type": "stream",
     "text": [
      "    Name  Age       City\n",
      "0   Aman   16      Delhi\n",
      "1  Priya   17     Mumbai\n",
      "2    Raj   16  Bangalore\n",
      "3  Sneha   18    Chennai\n"
     ]
    }
   ],
   "source": [
    "import pandas as pd\n",
    "\n",
    "# Data as a dictionary\n",
    "student_data = {\n",
    "    'Name': ['Aman', 'Priya', 'Raj', 'Sneha'],\n",
    "    'Age': [16, 17, 16, 18],\n",
    "    'City': ['Delhi', 'Mumbai', 'Bangalore', 'Chennai']\n",
    "}\n",
    "\n",
    "# Convert dictionary to DataFrame\n",
    "df = pd.DataFrame(student_data)\n",
    "print(df)"
   ]
  },
  {
   "cell_type": "markdown",
   "metadata": {},
   "source": [
    "Name, Age, City are like the headings of our columns, just like a ledger's headings "
   ]
  },
  {
   "cell_type": "markdown",
   "metadata": {},
   "source": [
    "The values are the actual data, similar to entries in each student's row in your school register."
   ]
  },
  {
   "cell_type": "markdown",
   "metadata": {},
   "source": [
    "## 2. Creating a DataFrame from a List of Lists"
   ]
  },
  {
   "cell_type": "markdown",
   "metadata": {},
   "source": [
    "Think of a list of lists as a table with rows of data. It's like when you jot down data in rows in your notebook for each student."
   ]
  },
  {
   "cell_type": "code",
   "execution_count": 188,
   "metadata": {},
   "outputs": [
    {
     "name": "stdout",
     "output_type": "stream",
     "text": [
      "    Name  Age       City\n",
      "0   Aman   16      Delhi\n",
      "1  Priya   17     Mumbai\n",
      "2    Raj   16  Bangalore\n",
      "3  Sneha   18    Chennai\n"
     ]
    }
   ],
   "source": [
    "# List of lists where each list is a row (student's data)\n",
    "data = [\n",
    "    ['Aman', 16, 'Delhi'],\n",
    "    ['Priya', 17, 'Mumbai'],\n",
    "    ['Raj', 16, 'Bangalore'],\n",
    "    ['Sneha', 18, 'Chennai']\n",
    "]\n",
    "\n",
    "# Create DataFrame and specify column labels\n",
    "df = pd.DataFrame(data, columns=['Name', 'Age', 'City'])\n",
    "print(df)"
   ]
  },
  {
   "cell_type": "markdown",
   "metadata": {},
   "source": [
    "Each inner list represents a row, which is like a complete entry for a student in the class. It’s just like making rows in a notebook for student records."
   ]
  },
  {
   "cell_type": "markdown",
   "metadata": {},
   "source": [
    "## 3. Creating a DataFrame from a List of Dictionaries"
   ]
  },
  {
   "cell_type": "code",
   "execution_count": 189,
   "metadata": {},
   "outputs": [
    {
     "name": "stdout",
     "output_type": "stream",
     "text": [
      "    Name  Age       City\n",
      "0   Aman   16      Delhi\n",
      "1  Priya   17     Mumbai\n",
      "2    Raj   16  Bangalore\n",
      "3  Sneha   18    Chennai\n"
     ]
    }
   ],
   "source": [
    "# List of dictionaries where each dictionary is a row\n",
    "family_data = [\n",
    "    {'Name': 'Aman', 'Age': 16, 'City': 'Delhi'},\n",
    "    {'Name': 'Priya', 'Age': 17, 'City': 'Mumbai'},\n",
    "    {'Name': 'Raj', 'Age': 16, 'City': 'Bangalore'},\n",
    "    {'Name': 'Sneha', 'Age': 18, 'City': 'Chennai'}\n",
    "]\n",
    "\n",
    "# Convert list of dictionaries to DataFrame\n",
    "df = pd.DataFrame(family_data)\n",
    "print(df)"
   ]
  },
  {
   "cell_type": "markdown",
   "metadata": {},
   "source": [
    "Each dictionary can be seen as a person’s record, much like writing an entry for each person in a family or an office group."
   ]
  },
  {
   "cell_type": "markdown",
   "metadata": {},
   "source": [
    "## 4. Creating a DataFrame from NumPy Arrays\n",
    "In India, we often deal with numbers, such as exam scores or bank transactions. Using NumPy arrays, we can store numerical data efficiently. Let’s create a DataFrame from NumPy arrays, much like a marksheet of students."
   ]
  },
  {
   "cell_type": "code",
   "execution_count": 190,
   "metadata": {},
   "outputs": [
    {
     "name": "stdout",
     "output_type": "stream",
     "text": [
      "    Name  Marks       City\n",
      "0   Aman     85      Delhi\n",
      "1  Priya     90     Mumbai\n",
      "2    Raj     78  Bangalore\n",
      "3  Sneha     88    Chennai\n"
     ]
    }
   ],
   "source": [
    "import numpy as np\n",
    "\n",
    "# Create NumPy arrays for data\n",
    "names = np.array(['Aman', 'Priya', 'Raj', 'Sneha'])\n",
    "marks = np.array([85, 90, 78, 88])\n",
    "cities = np.array(['Delhi', 'Mumbai', 'Bangalore', 'Chennai'])\n",
    "\n",
    "# Create DataFrame from NumPy arrays\n",
    "df = pd.DataFrame({\n",
    "    'Name': names,\n",
    "    'Marks': marks,\n",
    "    'City': cities\n",
    "})\n",
    "print(df)"
   ]
  },
  {
   "cell_type": "markdown",
   "metadata": {},
   "source": [
    "Here, NumPy arrays are used to hold data, just like a marksheet with names and scores. In this case, each array holds a column of data."
   ]
  },
  {
   "cell_type": "markdown",
   "metadata": {},
   "source": [
    "## 5. Creating DataFrame from CSV or Excel files\n",
    "In real life, we often store data in Excel or CSV files, like monthly electricity bills or bank statements. Pandas makes it very easy to read data from these files."
   ]
  },
  {
   "cell_type": "code",
   "execution_count": null,
   "metadata": {},
   "outputs": [],
   "source": [
    "# Reading from a CSV file (file needs to be present in your system)\n",
    "df = pd.read_csv('students_data.csv')\n",
    "print(df)"
   ]
  },
  {
   "cell_type": "markdown",
   "metadata": {},
   "source": [
    "Here, Pandas will load the CSV file data into a DataFrame, just like copying the table from Excel into Python."
   ]
  },
  {
   "cell_type": "markdown",
   "metadata": {},
   "source": [
    "## 1. Accessing a Single Column (Like looking at a specific category in your notebook)\n",
    "When you want to check a specific column, such as names, ages, or marks, it’s like checking only one subject or column in your register.\n",
    "\n",
    "Example: Student Data"
   ]
  },
  {
   "cell_type": "code",
   "execution_count": 234,
   "metadata": {},
   "outputs": [],
   "source": [
    "import pandas as pd\n",
    "\n",
    "data = {\n",
    "    'Name': ['Rahul', 'Anjali', 'Sameer', 'Neha'],\n",
    "    'Age': [18, 17, 19, 18],\n",
    "    'Marks': [85, 92, 75, 88]\n",
    "}\n",
    "\n",
    "df = pd.DataFrame(data)"
   ]
  },
  {
   "cell_type": "code",
   "execution_count": 235,
   "metadata": {},
   "outputs": [
    {
     "name": "stdout",
     "output_type": "stream",
     "text": [
      "     Name  Age  Marks\n",
      "0   Rahul   18     85\n",
      "1  Anjali   17     92\n",
      "2  Sameer   19     75\n",
      "3    Neha   18     88\n"
     ]
    }
   ],
   "source": [
    "print(df)"
   ]
  },
  {
   "cell_type": "markdown",
   "metadata": {},
   "source": [
    "Accessing a column by name:"
   ]
  },
  {
   "cell_type": "code",
   "execution_count": 236,
   "metadata": {},
   "outputs": [
    {
     "name": "stdout",
     "output_type": "stream",
     "text": [
      "0     Rahul\n",
      "1    Anjali\n",
      "2    Sameer\n",
      "3      Neha\n",
      "Name: Name, dtype: object\n"
     ]
    }
   ],
   "source": [
    "# Access the 'Name' column\n",
    "print(df['Name'])"
   ]
  },
  {
   "cell_type": "markdown",
   "metadata": {},
   "source": [
    "Here, you’re just looking at the \"Name\" column, like how you’d open your school register and look at all students’ names. You’re focusing on that one specific column."
   ]
  },
  {
   "cell_type": "markdown",
   "metadata": {},
   "source": [
    "## 2. Accessing Multiple Columns (Like checking multiple subjects at once)\n",
    "You can access more than one column at the same time, similar to looking at both names and marks in your register."
   ]
  },
  {
   "cell_type": "code",
   "execution_count": 237,
   "metadata": {},
   "outputs": [
    {
     "name": "stdout",
     "output_type": "stream",
     "text": [
      "     Name  Marks\n",
      "0   Rahul     85\n",
      "1  Anjali     92\n",
      "2  Sameer     75\n",
      "3    Neha     88\n"
     ]
    }
   ],
   "source": [
    "# Accessing multiple columns ('Name' and 'Marks')\n",
    "print(df[['Name', 'Marks']])"
   ]
  },
  {
   "cell_type": "markdown",
   "metadata": {},
   "source": [
    "Here, you're pulling out both the Name and Marks columns—like checking both subjects in your register at the same time. You’re essentially selecting two columns from the DataFrame."
   ]
  },
  {
   "cell_type": "markdown",
   "metadata": {},
   "source": [
    "## 3. Accessing Rows by Index (Looking at a specific student's details)\n",
    "If you want to see all details of one particular student (like Rahul), you would find his row in the register.\n",
    "\n",
    "Accessing a row by index:\n"
   ]
  },
  {
   "cell_type": "code",
   "execution_count": 238,
   "metadata": {},
   "outputs": [
    {
     "name": "stdout",
     "output_type": "stream",
     "text": [
      "Name     Rahul\n",
      "Age         18\n",
      "Marks       85\n",
      "Name: 0, dtype: object\n"
     ]
    }
   ],
   "source": [
    "# Accessing the first row (Rahul's data)\n",
    "print(df.loc[0])"
   ]
  },
  {
   "cell_type": "markdown",
   "metadata": {},
   "source": [
    "This is like saying, \"Tell me all about the first student in the register.\" You’re getting the entire row—Name, Age, and Marks—for that student."
   ]
  },
  {
   "cell_type": "markdown",
   "metadata": {},
   "source": [
    "## 4. Accessing Rows by Label with .loc[]\n",
    "Pandas has this nice .loc[] method, which allows you to access data by its label (row index). Think of it like referring to a page number or entry number in your notebook.\n",
    "\n",
    "Accessing multiple rows:"
   ]
  },
  {
   "cell_type": "code",
   "execution_count": 239,
   "metadata": {},
   "outputs": [
    {
     "name": "stdout",
     "output_type": "stream",
     "text": [
      "     Name  Age  Marks\n",
      "0   Rahul   18     85\n",
      "1  Anjali   17     92\n"
     ]
    }
   ],
   "source": [
    "# Access the rows of Rahul and Anjali\n",
    "print(df.loc[[0, 1]])"
   ]
  },
  {
   "cell_type": "markdown",
   "metadata": {},
   "source": [
    "You’re asking for all the details of Rahul and Anjali, just like reading two lines from your school register that contain all details for those students."
   ]
  },
  {
   "cell_type": "markdown",
   "metadata": {},
   "source": [
    "## 5. Accessing a Specific Value (Looking at one piece of information)\n",
    "Let’s say you want to know Anjali’s Marks. You’ll need to go to Anjali's row and look under the Marks column, just like in your register.\n",
    "\n",
    "Accessing a specific value:"
   ]
  },
  {
   "cell_type": "code",
   "execution_count": 240,
   "metadata": {},
   "outputs": [
    {
     "name": "stdout",
     "output_type": "stream",
     "text": [
      "92\n"
     ]
    }
   ],
   "source": [
    "# Access Anjali's Marks\n",
    "print(df.loc[1, 'Marks'])"
   ]
  },
  {
   "cell_type": "markdown",
   "metadata": {},
   "source": [
    "You’re looking for the Marks of the student at index 1 (Anjali). Just like finding Anjali in the school record and checking her marks."
   ]
  },
  {
   "cell_type": "markdown",
   "metadata": {},
   "source": [
    "## 6. Slicing (Accessing a range of rows and columns)\n",
    "Sometimes, you might want to look at multiple students and focus on particular subjects, like how you’d look at rows 2 to 4 and only focus on Name and Marks.\n",
    "\n",
    "Example: Access a slice of the DataFrame"
   ]
  },
  {
   "cell_type": "code",
   "execution_count": 241,
   "metadata": {},
   "outputs": [
    {
     "name": "stdout",
     "output_type": "stream",
     "text": [
      "     Name  Marks\n",
      "1  Anjali     92\n",
      "2  Sameer     75\n",
      "3    Neha     88\n"
     ]
    }
   ],
   "source": [
    "# Get a slice of the DataFrame (2nd to 4th rows, and 'Name' & 'Marks' columns)\n",
    "print(df.loc[1:3, ['Name', 'Marks']])"
   ]
  },
  {
   "cell_type": "markdown",
   "metadata": {},
   "source": [
    "This is like reading Anjali, Sameer, and Neha’s names and marks only, leaving out the other details. You’ve sliced a portion of the DataFrame to focus on specific rows and columns."
   ]
  },
  {
   "cell_type": "markdown",
   "metadata": {},
   "source": [
    "## 7. Accessing by Position Using .iloc[] (Like accessing by row number)\n",
    "Sometimes you don't know the labels, but you know the positions. For instance, you just want to check the 2nd student’s marks without caring about their name. .iloc[] helps you access rows and columns based on their position (just like row numbers in a notebook).\n",
    "\n",
    "Example: Access row and column by position"
   ]
  },
  {
   "cell_type": "code",
   "execution_count": 242,
   "metadata": {},
   "outputs": [
    {
     "name": "stdout",
     "output_type": "stream",
     "text": [
      "75\n"
     ]
    }
   ],
   "source": [
    "# Access the value in the second row and third column (Sameer’s marks)\n",
    "print(df.iloc[2, 2])"
   ]
  },
  {
   "cell_type": "markdown",
   "metadata": {},
   "source": [
    "You are saying, \"Show me the value in the 2nd row (Sameer) and the 3rd column (Marks).\" It’s like going to row 3 of your register and looking at a specific column."
   ]
  },
  {
   "cell_type": "markdown",
   "metadata": {},
   "source": [
    "## 8. Accessing Multiple Rows and Columns with .iloc[]\n",
    "You can also use .iloc[] to get multiple rows and columns at the same time, much like checking several lines in your notebook.\n",
    "\n",
    "Example: Access multiple rows and columns"
   ]
  },
  {
   "cell_type": "code",
   "execution_count": 243,
   "metadata": {},
   "outputs": [
    {
     "name": "stdout",
     "output_type": "stream",
     "text": [
      "     Name  Age\n",
      "1  Anjali   17\n",
      "2  Sameer   19\n",
      "3    Neha   18\n"
     ]
    }
   ],
   "source": [
    "# Access rows 1 to 3 and columns 1 to 2\n",
    "print(df.iloc[1:4, 0:2])"
   ]
  },
  {
   "cell_type": "markdown",
   "metadata": {},
   "source": [
    "You’re asking for the Name and Age of students from the 2nd to 4th rows, just like selecting a portion of your register."
   ]
  },
  {
   "cell_type": "markdown",
   "metadata": {},
   "source": [
    "## 9. Conditional Access (Filtering data based on conditions)\n",
    "If your teacher asks, \"Show me students who scored more than 80 marks,\" you'd manually go through the register and note down the names of students meeting that condition. In Pandas, we can easily filter data based on conditions.\n",
    "\n",
    "Example: Access students who scored more than 80 marks"
   ]
  },
  {
   "cell_type": "code",
   "execution_count": 244,
   "metadata": {},
   "outputs": [
    {
     "name": "stdout",
     "output_type": "stream",
     "text": [
      "     Name  Age  Marks\n",
      "0   Rahul   18     85\n",
      "1  Anjali   17     92\n",
      "3    Neha   18     88\n"
     ]
    }
   ],
   "source": [
    "# Students with marks more than 80\n",
    "print(df[df['Marks'] > 80])"
   ]
  },
  {
   "cell_type": "markdown",
   "metadata": {},
   "source": [
    "You are filtering out only those students who have scored more than 80 marks, similar to how you’d filter students manually in your notebook based on their marks."
   ]
  },
  {
   "cell_type": "markdown",
   "metadata": {},
   "source": [
    "## 10. Accessing with Conditions on Multiple Columns\n",
    "Let’s say you want to check who is above 18 years and scored more than 80 marks. Just like flipping through pages in your register, you can use multiple conditions to filter data.\n",
    "\n",
    "Example: Access based on multiple conditions"
   ]
  },
  {
   "cell_type": "code",
   "execution_count": 245,
   "metadata": {},
   "outputs": [
    {
     "name": "stdout",
     "output_type": "stream",
     "text": [
      "     Name  Age  Marks\n",
      "2  Sameer   19     75\n"
     ]
    }
   ],
   "source": [
    "# Students older than 18 and marks more than 60\n",
    "result = df[(df['Age'] > 18) & (df['Marks'] > 60)]\n",
    "print(result)"
   ]
  },
  {
   "cell_type": "markdown",
   "metadata": {},
   "source": [
    "Now that you've learned how to access data in a Pandas DataFrame using conditions and filter multiple columns, the next steps can involve more advanced data manipulation and analysis techniques"
   ]
  },
  {
   "cell_type": "markdown",
   "metadata": {},
   "source": [
    "## 1. Chaining Conditions\n",
    "Chaining conditions allows you to create more complex queries to filter your DataFrame based on multiple criteria.\n",
    "\n",
    "Example: Students Older Than 18 with Marks Greater Than 70"
   ]
  },
  {
   "cell_type": "code",
   "execution_count": 246,
   "metadata": {},
   "outputs": [
    {
     "name": "stdout",
     "output_type": "stream",
     "text": [
      "     Name  Age  Marks       City\n",
      "0   Rahul   18     85      Delhi\n",
      "1  Anjali   17     92     Mumbai\n",
      "2  Sameer   19     75  Bangalore\n",
      "3    Neha   18     88    Chennai\n"
     ]
    }
   ],
   "source": [
    "import pandas as pd\n",
    "\n",
    "# Sample DataFrame\n",
    "data = {\n",
    "    'Name': ['Rahul', 'Anjali', 'Sameer', 'Neha'],\n",
    "    'Age': [18, 17, 19, 18],\n",
    "    'Marks': [85, 92, 75, 88],\n",
    "    'City': ['Delhi', 'Mumbai', 'Bangalore', 'Chennai']\n",
    "}\n",
    "\n",
    "df = pd.DataFrame(data)\n",
    "print(df)"
   ]
  },
  {
   "cell_type": "code",
   "execution_count": 247,
   "metadata": {},
   "outputs": [
    {
     "name": "stdout",
     "output_type": "stream",
     "text": [
      "     Name  Age  Marks       City\n",
      "2  Sameer   19     75  Bangalore\n"
     ]
    }
   ],
   "source": [
    "# Chaining conditions\n",
    "filtered_students = df[(df['Age'] > 18) & (df['Marks'] > 70)]\n",
    "print(filtered_students)"
   ]
  },
  {
   "cell_type": "markdown",
   "metadata": {},
   "source": [
    "## 2. Using isin() for Filtering\n",
    "The isin() function checks if each element in a DataFrame column is contained in a provided list. This is useful for filtering rows based on multiple possible values.\n",
    "\n",
    "Example: Filter Students from Specific Cities"
   ]
  },
  {
   "cell_type": "code",
   "execution_count": 248,
   "metadata": {},
   "outputs": [
    {
     "name": "stdout",
     "output_type": "stream",
     "text": [
      "     Name  Age  Marks    City\n",
      "0   Rahul   18     85   Delhi\n",
      "1  Anjali   17     92  Mumbai\n"
     ]
    }
   ],
   "source": [
    "# Filtering students from Delhi and Mumbai\n",
    "filtered_cities = df[df['City'].isin(['Delhi', 'Mumbai'])]\n",
    "print(filtered_cities)"
   ]
  },
  {
   "cell_type": "markdown",
   "metadata": {},
   "source": [
    "## 3. Using query() Method\n",
    "The query() method allows you to filter a DataFrame using a string expression. It provides a cleaner and more readable syntax, especially for complex conditions.\n",
    "\n",
    "Example: Query for Students Older Than 18"
   ]
  },
  {
   "cell_type": "code",
   "execution_count": 249,
   "metadata": {},
   "outputs": [
    {
     "name": "stdout",
     "output_type": "stream",
     "text": [
      "     Name  Age  Marks       City\n",
      "2  Sameer   19     75  Bangalore\n"
     ]
    }
   ],
   "source": [
    "# Using query to filter\n",
    "result = df.query('Age > 18 and Marks > 70')\n",
    "print(result)"
   ]
  },
  {
   "cell_type": "markdown",
   "metadata": {},
   "source": [
    "## 4. Sorting Data\n",
    "Sorting helps to arrange your DataFrame based on specific column values. This is useful for identifying top or bottom performers in your dataset.\n",
    "\n",
    "Example: Sort by Marks in Descending Order"
   ]
  },
  {
   "cell_type": "code",
   "execution_count": 250,
   "metadata": {},
   "outputs": [
    {
     "name": "stdout",
     "output_type": "stream",
     "text": [
      "     Name  Age  Marks       City\n",
      "1  Anjali   17     92     Mumbai\n",
      "3    Neha   18     88    Chennai\n",
      "0   Rahul   18     85      Delhi\n",
      "2  Sameer   19     75  Bangalore\n"
     ]
    }
   ],
   "source": [
    "# Sorting by Marks\n",
    "sorted_df = df.sort_values(by='Marks', ascending=False)\n",
    "print(sorted_df)"
   ]
  },
  {
   "cell_type": "markdown",
   "metadata": {},
   "source": [
    "You can also sort by multiple columns:"
   ]
  },
  {
   "cell_type": "code",
   "execution_count": 251,
   "metadata": {},
   "outputs": [
    {
     "name": "stdout",
     "output_type": "stream",
     "text": [
      "     Name  Age  Marks       City\n",
      "1  Anjali   17     92     Mumbai\n",
      "3    Neha   18     88    Chennai\n",
      "0   Rahul   18     85      Delhi\n",
      "2  Sameer   19     75  Bangalore\n"
     ]
    }
   ],
   "source": [
    "# Sort by Age, then by Marks\n",
    "sorted_df_multi = df.sort_values(by=['Age', 'Marks'], ascending=[True, False])\n",
    "print(sorted_df_multi)"
   ]
  },
  {
   "cell_type": "markdown",
   "metadata": {},
   "source": [
    "## 5. Group By Operations\n",
    "The groupby() function is powerful for aggregating data based on one or more columns. You can compute statistics like mean, sum, count, etc.\n",
    "\n",
    "Example: Group By City and Calculate Average Marks"
   ]
  },
  {
   "cell_type": "code",
   "execution_count": 252,
   "metadata": {},
   "outputs": [
    {
     "name": "stdout",
     "output_type": "stream",
     "text": [
      "        City  Marks\n",
      "0  Bangalore   75.0\n",
      "1    Chennai   88.0\n",
      "2      Delhi   85.0\n",
      "3     Mumbai   92.0\n"
     ]
    }
   ],
   "source": [
    "# Group by City and calculate average Marks\n",
    "grouped_df = df.groupby('City')['Marks'].mean().reset_index()\n",
    "print(grouped_df)"
   ]
  },
  {
   "cell_type": "markdown",
   "metadata": {},
   "source": [
    "The reset_index() method is used to convert the resulting series back into a DataFrame."
   ]
  },
  {
   "cell_type": "markdown",
   "metadata": {},
   "source": [
    "## 6. Applying Functions with apply()\n",
    "The apply() function lets you apply a custom function across rows or columns. This is especially useful for data transformations.\n",
    "\n",
    "Example: Increase Marks by 5"
   ]
  },
  {
   "cell_type": "code",
   "execution_count": 253,
   "metadata": {},
   "outputs": [
    {
     "name": "stdout",
     "output_type": "stream",
     "text": [
      "     Name  Age  Marks       City  Updated Marks\n",
      "0   Rahul   18     85      Delhi             90\n",
      "1  Anjali   17     92     Mumbai             97\n",
      "2  Sameer   19     75  Bangalore             80\n",
      "3    Neha   18     88    Chennai             93\n"
     ]
    }
   ],
   "source": [
    "# Define a function to increase marks\n",
    "def increase_marks(marks):\n",
    "    return marks + 5\n",
    "\n",
    "# Apply the function to Marks column\n",
    "df['Updated Marks'] = df['Marks'].apply(increase_marks)\n",
    "print(df)"
   ]
  },
  {
   "cell_type": "markdown",
   "metadata": {},
   "source": [
    "## 7. Handling Missing Data\n",
    "Missing data can skew your analysis, so handling it properly is crucial.\n",
    "\n",
    "Example: Dropping Missing Values"
   ]
  },
  {
   "cell_type": "code",
   "execution_count": 254,
   "metadata": {},
   "outputs": [
    {
     "name": "stdout",
     "output_type": "stream",
     "text": [
      "     Name  Age  Marks     City  Updated Marks\n",
      "0   Rahul   18   85.0    Delhi             90\n",
      "1  Anjali   17   92.0   Mumbai             97\n",
      "3    Neha   18   88.0  Chennai             93\n"
     ]
    }
   ],
   "source": [
    "# Assuming there are missing values in the DataFrame\n",
    "df.loc[2, 'Marks'] = None  # Introduce a missing value for demonstration\n",
    "\n",
    "# Drop rows with any missing values\n",
    "cleaned_df = df.dropna()\n",
    "print(cleaned_df)"
   ]
  },
  {
   "cell_type": "markdown",
   "metadata": {},
   "source": [
    "filling missing value"
   ]
  },
  {
   "cell_type": "code",
   "execution_count": 255,
   "metadata": {},
   "outputs": [
    {
     "name": "stdout",
     "output_type": "stream",
     "text": [
      "     Name  Age      Marks       City  Updated Marks\n",
      "0   Rahul   18  85.000000      Delhi             90\n",
      "1  Anjali   17  92.000000     Mumbai             97\n",
      "2  Sameer   19  88.333333  Bangalore             80\n",
      "3    Neha   18  88.000000    Chennai             93\n"
     ]
    }
   ],
   "source": [
    "# Calculate the mean and fill missing values without inplace\n",
    "df['Marks'] = df['Marks'].fillna(df['Marks'].mean())\n",
    "print(df)"
   ]
  },
  {
   "cell_type": "markdown",
   "metadata": {},
   "source": [
    "## 8. Merging DataFrames\n",
    "Merging is similar to SQL joins. It’s useful when you have related datasets that you want to combine.\n",
    "\n",
    "Example: Merging Two DataFrames"
   ]
  },
  {
   "cell_type": "code",
   "execution_count": 256,
   "metadata": {},
   "outputs": [
    {
     "name": "stdout",
     "output_type": "stream",
     "text": [
      "     Name  Age      Marks     City_x  Updated Marks     City_y\n",
      "0   Rahul   18  85.000000      Delhi             90      Delhi\n",
      "1  Anjali   17  92.000000     Mumbai             97     Mumbai\n",
      "2  Sameer   19  88.333333  Bangalore             80  Bangalore\n",
      "3    Neha   18  88.000000    Chennai             93    Chennai\n"
     ]
    }
   ],
   "source": [
    "# Create another DataFrame with City info\n",
    "data2 = {\n",
    "    'Name': ['Rahul', 'Anjali', 'Sameer', 'Neha'],\n",
    "    'City': ['Delhi', 'Mumbai', 'Bangalore', 'Chennai']\n",
    "}\n",
    "df2 = pd.DataFrame(data2)\n",
    "\n",
    "# Merge on Name\n",
    "merged_df = pd.merge(df, df2, on='Name')\n",
    "print(merged_df)"
   ]
  },
  {
   "cell_type": "markdown",
   "metadata": {},
   "source": [
    "After covering data access and handling missing values"
   ]
  },
  {
   "cell_type": "markdown",
   "metadata": {},
   "source": [
    "#### Data Cleaning Techniques\n",
    "Removing Duplicates: Use drop_duplicates() to remove duplicate rows."
   ]
  },
  {
   "cell_type": "code",
   "execution_count": 257,
   "metadata": {},
   "outputs": [
    {
     "data": {
      "text/html": [
       "<div>\n",
       "<style scoped>\n",
       "    .dataframe tbody tr th:only-of-type {\n",
       "        vertical-align: middle;\n",
       "    }\n",
       "\n",
       "    .dataframe tbody tr th {\n",
       "        vertical-align: top;\n",
       "    }\n",
       "\n",
       "    .dataframe thead th {\n",
       "        text-align: right;\n",
       "    }\n",
       "</style>\n",
       "<table border=\"1\" class=\"dataframe\">\n",
       "  <thead>\n",
       "    <tr style=\"text-align: right;\">\n",
       "      <th></th>\n",
       "      <th>Name</th>\n",
       "      <th>Age</th>\n",
       "      <th>Marks</th>\n",
       "      <th>City</th>\n",
       "      <th>Updated Marks</th>\n",
       "    </tr>\n",
       "  </thead>\n",
       "  <tbody>\n",
       "    <tr>\n",
       "      <th>0</th>\n",
       "      <td>Rahul</td>\n",
       "      <td>18</td>\n",
       "      <td>85.000000</td>\n",
       "      <td>Delhi</td>\n",
       "      <td>90</td>\n",
       "    </tr>\n",
       "    <tr>\n",
       "      <th>1</th>\n",
       "      <td>Anjali</td>\n",
       "      <td>17</td>\n",
       "      <td>92.000000</td>\n",
       "      <td>Mumbai</td>\n",
       "      <td>97</td>\n",
       "    </tr>\n",
       "    <tr>\n",
       "      <th>2</th>\n",
       "      <td>Sameer</td>\n",
       "      <td>19</td>\n",
       "      <td>88.333333</td>\n",
       "      <td>Bangalore</td>\n",
       "      <td>80</td>\n",
       "    </tr>\n",
       "    <tr>\n",
       "      <th>3</th>\n",
       "      <td>Neha</td>\n",
       "      <td>18</td>\n",
       "      <td>88.000000</td>\n",
       "      <td>Chennai</td>\n",
       "      <td>93</td>\n",
       "    </tr>\n",
       "  </tbody>\n",
       "</table>\n",
       "</div>"
      ],
      "text/plain": [
       "     Name  Age      Marks       City  Updated Marks\n",
       "0   Rahul   18  85.000000      Delhi             90\n",
       "1  Anjali   17  92.000000     Mumbai             97\n",
       "2  Sameer   19  88.333333  Bangalore             80\n",
       "3    Neha   18  88.000000    Chennai             93"
      ]
     },
     "execution_count": 257,
     "metadata": {},
     "output_type": "execute_result"
    }
   ],
   "source": [
    "# Remove duplicates\n",
    "df_unique = df.drop_duplicates()\n",
    "df_unique"
   ]
  },
  {
   "cell_type": "markdown",
   "metadata": {},
   "source": [
    "Renaming Columns: Use rename() to rename columns for clarity"
   ]
  },
  {
   "cell_type": "code",
   "execution_count": 258,
   "metadata": {},
   "outputs": [],
   "source": [
    "# Rename columns\n",
    "df = df.rename(columns={'Marks': 'Score'}, inplace=True)"
   ]
  }
 ],
 "metadata": {
  "kernelspec": {
   "display_name": "Python 3",
   "language": "python",
   "name": "python3"
  },
  "language_info": {
   "codemirror_mode": {
    "name": "ipython",
    "version": 3
   },
   "file_extension": ".py",
   "mimetype": "text/x-python",
   "name": "python",
   "nbconvert_exporter": "python",
   "pygments_lexer": "ipython3",
   "version": "3.12.5"
  }
 },
 "nbformat": 4,
 "nbformat_minor": 2
}
