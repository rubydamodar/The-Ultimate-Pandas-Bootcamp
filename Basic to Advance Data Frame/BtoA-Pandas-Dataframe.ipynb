{
 "cells": [
  {
   "cell_type": "markdown",
   "metadata": {},
   "source": [
    "# Introduction to Pandas DataFrame "
   ]
  },
  {
   "cell_type": "markdown",
   "metadata": {},
   "source": [
    "Imagine you're in a classroom. The Pandas DataFrame is like a class register (attendance book). In that register:\n",
    "\n",
    "- The rows are like students in your class.\n",
    "- The columns are like the subjects each student has. For example: one column for \"Name\", another for \"Math marks\", one for \"Science marks\", etc.\n",
    "- The index is like the roll numbers assigned to each student.\n",
    "So, the Pandas DataFrame is nothing but a table that helps you organize your data in rows and columns, exactly like how you maintain school or college records."
   ]
  },
  {
   "cell_type": "markdown",
   "metadata": {},
   "source": [
    "### What is a DataFrame?"
   ]
  },
  {
   "cell_type": "markdown",
   "metadata": {},
   "source": [
    "A DataFrame is basically a 2D (two-dimensional) data structure in Pandas, meaning it has both rows and columns. It's one of the most important parts of Pandas, which is why we focus on it so much.\n",
    "\n",
    "- Just like your class register has names and marks of students, a DataFrame holds labeled data.\n",
    "- You can store different types of data in one DataFrame: numbers, strings (like names), dates, etc."
   ]
  },
  {
   "cell_type": "markdown",
   "metadata": {},
   "source": [
    "## Creating a Simple DataFrame:"
   ]
  },
  {
   "cell_type": "markdown",
   "metadata": {},
   "source": [
    "Now, let's say you want to create a DataFrame for a class with details of 3 students, their marks in Math, and the city they are from. In Pandas, you can do this using Python, and it’s as simple as writing the names and marks in the code."
   ]
  },
  {
   "cell_type": "code",
   "execution_count": 2,
   "metadata": {},
   "outputs": [
    {
     "name": "stdout",
     "output_type": "stream",
     "text": [
      "        Name  Math Marks       City\n",
      "0      Rahul          85      Delhi\n",
      "1      Priya          92     Mumbai\n",
      "2  Siddharth          78  Bangalore\n"
     ]
    }
   ],
   "source": [
    "import pandas as pd  # First, import the Pandas library\n",
    "\n",
    "# Now, let's create a dictionary to store the data like a class register\n",
    "data = {\n",
    "    'Name': ['Rahul', 'Priya', 'Siddharth'],  # These are the students' names\n",
    "    'Math Marks': [85, 92, 78],               # Their respective Math marks\n",
    "    'City': ['Delhi', 'Mumbai', 'Bangalore']  # The city they belong to\n",
    "}\n",
    "\n",
    "# Let's convert this dictionary into a DataFrame (class register form)\n",
    "df = pd.DataFrame(data)\n",
    "\n",
    "# Now, display the DataFrame (class register)\n",
    "print(df)"
   ]
  },
  {
   "cell_type": "markdown",
   "metadata": {},
   "source": [
    "- We created a dictionary first, where the keys ('Name', 'Math Marks', 'City') are the columns in our DataFrame.\n",
    "- The values (the list of names, marks, and cities) are like the rows in our DataFrame.\n",
    "- d.DataFrame() is the function that takes this data and converts it into a DataFrame structure, just like organizing your school records into a table."
   ]
  },
  {
   "cell_type": "markdown",
   "metadata": {},
   "source": [
    " # Important DataFrame Characteristics"
   ]
  },
  {
   "cell_type": "markdown",
   "metadata": {},
   "source": [
    "When you create a DataFrame, it automatically comes with some useful properties that help us understand the data better. Just like how you check:\n",
    "\n",
    "- How many students are there (the size of the register),\n",
    "- What subjects are being recorded (the columns),\n",
    "- What each student scored (the actual data inside)."
   ]
  },
  {
   "cell_type": "markdown",
   "metadata": {},
   "source": [
    " 1. `.shape` – Size of the DataFrame"
   ]
  },
  {
   "cell_type": "markdown",
   "metadata": {},
   "source": [
    "This tells you how many rows and columns are there in your DataFrame, just like counting the number of students and subjects."
   ]
  },
  {
   "cell_type": "code",
   "execution_count": 3,
   "metadata": {},
   "outputs": [
    {
     "data": {
      "text/plain": [
       "(3, 3)"
      ]
     },
     "execution_count": 3,
     "metadata": {},
     "output_type": "execute_result"
    }
   ],
   "source": [
    "df.shape"
   ]
  },
  {
   "cell_type": "markdown",
   "metadata": {},
   "source": [
    "2. `.columns` – Column Names\n",
    "This will list all the column names, like asking, \"What subjects are recorded in this class register?\""
   ]
  },
  {
   "cell_type": "code",
   "execution_count": 4,
   "metadata": {},
   "outputs": [
    {
     "data": {
      "text/plain": [
       "Index(['Name', 'Math Marks', 'City'], dtype='object')"
      ]
     },
     "execution_count": 4,
     "metadata": {},
     "output_type": "execute_result"
    }
   ],
   "source": [
    "df.columns"
   ]
  },
  {
   "cell_type": "markdown",
   "metadata": {},
   "source": [
    "3. `.head()` and `.tail()` – Viewing the Data\n",
    "- .head() shows the first 5 rows of the DataFrame (useful to check the beginning of the data).\n",
    "- .tail() shows the last 5 rows (useful to check the end of the data)."
   ]
  },
  {
   "cell_type": "code",
   "execution_count": 5,
   "metadata": {},
   "outputs": [
    {
     "data": {
      "text/html": [
       "<div>\n",
       "<style scoped>\n",
       "    .dataframe tbody tr th:only-of-type {\n",
       "        vertical-align: middle;\n",
       "    }\n",
       "\n",
       "    .dataframe tbody tr th {\n",
       "        vertical-align: top;\n",
       "    }\n",
       "\n",
       "    .dataframe thead th {\n",
       "        text-align: right;\n",
       "    }\n",
       "</style>\n",
       "<table border=\"1\" class=\"dataframe\">\n",
       "  <thead>\n",
       "    <tr style=\"text-align: right;\">\n",
       "      <th></th>\n",
       "      <th>Name</th>\n",
       "      <th>Math Marks</th>\n",
       "      <th>City</th>\n",
       "    </tr>\n",
       "  </thead>\n",
       "  <tbody>\n",
       "    <tr>\n",
       "      <th>0</th>\n",
       "      <td>Rahul</td>\n",
       "      <td>85</td>\n",
       "      <td>Delhi</td>\n",
       "    </tr>\n",
       "    <tr>\n",
       "      <th>1</th>\n",
       "      <td>Priya</td>\n",
       "      <td>92</td>\n",
       "      <td>Mumbai</td>\n",
       "    </tr>\n",
       "    <tr>\n",
       "      <th>2</th>\n",
       "      <td>Siddharth</td>\n",
       "      <td>78</td>\n",
       "      <td>Bangalore</td>\n",
       "    </tr>\n",
       "  </tbody>\n",
       "</table>\n",
       "</div>"
      ],
      "text/plain": [
       "        Name  Math Marks       City\n",
       "0      Rahul          85      Delhi\n",
       "1      Priya          92     Mumbai\n",
       "2  Siddharth          78  Bangalore"
      ]
     },
     "execution_count": 5,
     "metadata": {},
     "output_type": "execute_result"
    }
   ],
   "source": [
    "df.head()"
   ]
  },
  {
   "cell_type": "markdown",
   "metadata": {},
   "source": [
    "# Why is this useful?\n",
    "Pandas DataFrames make it super easy to manage large amounts of data. Whether you're a teacher managing class records, a shopkeeper managing stock details, or an engineer analyzing a large dataset, DataFrames simplify the work by organizing everything in a structured way."
   ]
  }
 ],
 "metadata": {
  "kernelspec": {
   "display_name": "Python 3",
   "language": "python",
   "name": "python3"
  },
  "language_info": {
   "codemirror_mode": {
    "name": "ipython",
    "version": 3
   },
   "file_extension": ".py",
   "mimetype": "text/x-python",
   "name": "python",
   "nbconvert_exporter": "python",
   "pygments_lexer": "ipython3",
   "version": "3.12.5"
  }
 },
 "nbformat": 4,
 "nbformat_minor": 2
}
